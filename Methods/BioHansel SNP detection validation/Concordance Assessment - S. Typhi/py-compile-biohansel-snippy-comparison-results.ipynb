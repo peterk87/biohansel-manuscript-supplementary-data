{
 "cells": [
  {
   "cell_type": "markdown",
   "metadata": {},
   "source": [
    "# Compile Snippy and BioHansel comparison results for individual genomes\n",
    "\n",
    "The [nf-biohansel-snippy-comparison](https://github.com/peterk87/nf-biohansel-snippy-comparison) workflow was run using the list of 1000 SRA accessions present in [table S5](https://github.com/peterk87/biohansel-manuscript-supplementary-data/blob/master/Methods/BioHansel%20SNP%20detection%20validation/SalmonellaTyphi%20WGS%20dataset%20construction/Table_S5_List_of_1000_Salmonella_Typhi_Accessions.txt). \n",
    "\n",
    "The latest version of the workflow was retrieved with:\n",
    "\n",
    "```bash\n",
    "nextflow pull peterk87/nf-biohansel-snippy-comparison\n",
    "```\n",
    "\n",
    "After pulling the latest version of the workflow, it was necessary to modify `.nextflow/assets/peterk87/nf-biohansel-snippy-comparison/conf/base.config` so that the `errorStrategy` was `'retry'` (i.e. retry for all errors and failures)\n",
    "\n",
    "\n",
    "```diff\n",
    "diff --git a/conf/base.config b/conf/base.config\n",
    "index 5fe7311..2c8fbfa 100644\n",
    "--- a/conf/base.config\n",
    "+++ b/conf/base.config\n",
    "@@ -3,7 +3,7 @@ process {\n",
    "   memory = { check_max( 1.GB * task.attempt, 'memory' ) }\n",
    "   time = { check_max( 2.h * task.attempt, 'time' ) }\n",
    "\n",
    "-  errorStrategy = { task.exitStatus in [143,137] ? 'retry' : 'finish' }\n",
    "+  errorStrategy = 'retry' //{ task.exitStatus in [143,137] ? 'retry' : 'finish' }\n",
    "   maxRetries = 3\n",
    "   maxErrors = '-1'\n",
    "```\n",
    "\n",
    "The workflow was run with the following command:\n",
    "\n",
    "```bash\n",
    "nextflow run peterk87/nf-biohansel-snippy-comparison \\\n",
    "  -with-singularity nfbsc.sif \\\n",
    "  -resume -w work-bh-snippy-S2 \\\n",
    "  -profile slurm,singularity \\\n",
    "  --slurm_queue VALID_SLURM_PARTITION_NAME \\\n",
    "  --n_genomes 1000 \\\n",
    "  --schemesdir bh-snippy-comparison-schemes \\\n",
    "  --outdir nf-bh-snippy-results-S2\n",
    "```\n",
    "\n",
    "where `VALID_SLURM_PARTITION_NAME` was replaced with a valid Slurm partition/queue name on the cluster. \n",
    "\n",
    "There is one comparison for each genome so it's necessary to collect all the files for collation into one big table. \n",
    "\n",
    "First, the directory in which the comparison output files are stored is needed. "
   ]
  },
  {
   "cell_type": "code",
   "execution_count": 1,
   "metadata": {
    "ExecuteTime": {
     "end_time": "2019-11-07T16:41:38.258587Z",
     "start_time": "2019-11-07T16:41:38.253635Z"
    }
   },
   "outputs": [],
   "source": [
    "from pathlib import Path"
   ]
  },
  {
   "cell_type": "code",
   "execution_count": 2,
   "metadata": {
    "ExecuteTime": {
     "end_time": "2019-11-07T16:41:38.271197Z",
     "start_time": "2019-11-07T16:41:38.266644Z"
    }
   },
   "outputs": [],
   "source": [
    "data_path = Path('/home/CSCScience.ca/pkruczkiewicz/K/pkruczkiewicz/nf-bh-snippy-results-S2/compare/')"
   ]
  },
  {
   "cell_type": "markdown",
   "metadata": {},
   "source": [
    "Each comparison will be read into a Pandas DataFrame with a field added for genome name and scheme name derived from the input file name.\n",
    "\n",
    "The tables will be concatenated into one big table `df_all`"
   ]
  },
  {
   "cell_type": "code",
   "execution_count": 3,
   "metadata": {
    "ExecuteTime": {
     "end_time": "2019-11-07T16:41:38.821419Z",
     "start_time": "2019-11-07T16:41:38.274326Z"
    }
   },
   "outputs": [],
   "source": [
    "import pandas as pd"
   ]
  },
  {
   "cell_type": "code",
   "execution_count": 4,
   "metadata": {
    "ExecuteTime": {
     "end_time": "2019-11-07T16:41:48.887740Z",
     "start_time": "2019-11-07T16:41:38.824228Z"
    }
   },
   "outputs": [],
   "source": [
    "dfs = []\n",
    "for p in data_path.glob('*.csv'):\n",
    "    df = pd.read_csv(p, index_col=0)\n",
    "    genome, scheme = p.name.replace('.csv', '').split('-', maxsplit=1)\n",
    "    df.sort_values('position', inplace=True)\n",
    "    df['genome'] = genome\n",
    "    df['scheme'] = scheme\n",
    "    dfs.append(df)\n",
    "df_all = pd.concat(dfs)"
   ]
  },
  {
   "cell_type": "markdown",
   "metadata": {},
   "source": [
    "Preview of `df_all` table"
   ]
  },
  {
   "cell_type": "code",
   "execution_count": 5,
   "metadata": {
    "ExecuteTime": {
     "end_time": "2019-11-07T16:41:48.943677Z",
     "start_time": "2019-11-07T16:41:48.893615Z"
    }
   },
   "outputs": [
    {
     "data": {
      "text/html": [
       "<div>\n",
       "<style scoped>\n",
       "    .dataframe tbody tr th:only-of-type {\n",
       "        vertical-align: middle;\n",
       "    }\n",
       "\n",
       "    .dataframe tbody tr th {\n",
       "        vertical-align: top;\n",
       "    }\n",
       "\n",
       "    .dataframe thead th {\n",
       "        text-align: right;\n",
       "    }\n",
       "</style>\n",
       "<table border=\"1\" class=\"dataframe\">\n",
       "  <thead>\n",
       "    <tr style=\"text-align: right;\">\n",
       "      <th></th>\n",
       "      <th>position</th>\n",
       "      <th>biohansel_A</th>\n",
       "      <th>biohansel_C</th>\n",
       "      <th>biohansel_G</th>\n",
       "      <th>biohansel_T</th>\n",
       "      <th>biohansel_depth</th>\n",
       "      <th>snippy_call</th>\n",
       "      <th>snippy_A</th>\n",
       "      <th>snippy_C</th>\n",
       "      <th>snippy_G</th>\n",
       "      <th>snippy_T</th>\n",
       "      <th>snippy_depth</th>\n",
       "      <th>genome</th>\n",
       "      <th>scheme</th>\n",
       "    </tr>\n",
       "  </thead>\n",
       "  <tbody>\n",
       "    <tr>\n",
       "      <td>13</td>\n",
       "      <td>30191</td>\n",
       "      <td>0.0</td>\n",
       "      <td>59.0</td>\n",
       "      <td>0.0</td>\n",
       "      <td>0.0</td>\n",
       "      <td>59.0</td>\n",
       "      <td>C</td>\n",
       "      <td>0</td>\n",
       "      <td>73</td>\n",
       "      <td>0</td>\n",
       "      <td>0</td>\n",
       "      <td>73</td>\n",
       "      <td>ERR1791820</td>\n",
       "      <td>typhi_v1.2</td>\n",
       "    </tr>\n",
       "    <tr>\n",
       "      <td>17</td>\n",
       "      <td>102134</td>\n",
       "      <td>0.0</td>\n",
       "      <td>0.0</td>\n",
       "      <td>58.0</td>\n",
       "      <td>0.0</td>\n",
       "      <td>58.0</td>\n",
       "      <td>G</td>\n",
       "      <td>0</td>\n",
       "      <td>0</td>\n",
       "      <td>73</td>\n",
       "      <td>0</td>\n",
       "      <td>73</td>\n",
       "      <td>ERR1791820</td>\n",
       "      <td>typhi_v1.2</td>\n",
       "    </tr>\n",
       "    <tr>\n",
       "      <td>49</td>\n",
       "      <td>146672</td>\n",
       "      <td>0.0</td>\n",
       "      <td>0.0</td>\n",
       "      <td>55.0</td>\n",
       "      <td>0.0</td>\n",
       "      <td>55.0</td>\n",
       "      <td>G</td>\n",
       "      <td>0</td>\n",
       "      <td>0</td>\n",
       "      <td>76</td>\n",
       "      <td>0</td>\n",
       "      <td>76</td>\n",
       "      <td>ERR1791820</td>\n",
       "      <td>typhi_v1.2</td>\n",
       "    </tr>\n",
       "    <tr>\n",
       "      <td>50</td>\n",
       "      <td>183032</td>\n",
       "      <td>0.0</td>\n",
       "      <td>57.0</td>\n",
       "      <td>0.0</td>\n",
       "      <td>0.0</td>\n",
       "      <td>57.0</td>\n",
       "      <td>C</td>\n",
       "      <td>0</td>\n",
       "      <td>78</td>\n",
       "      <td>0</td>\n",
       "      <td>0</td>\n",
       "      <td>78</td>\n",
       "      <td>ERR1791820</td>\n",
       "      <td>typhi_v1.2</td>\n",
       "    </tr>\n",
       "    <tr>\n",
       "      <td>3</td>\n",
       "      <td>270119</td>\n",
       "      <td>0.0</td>\n",
       "      <td>40.0</td>\n",
       "      <td>0.0</td>\n",
       "      <td>0.0</td>\n",
       "      <td>40.0</td>\n",
       "      <td>C</td>\n",
       "      <td>0</td>\n",
       "      <td>57</td>\n",
       "      <td>0</td>\n",
       "      <td>0</td>\n",
       "      <td>57</td>\n",
       "      <td>ERR1791820</td>\n",
       "      <td>typhi_v1.2</td>\n",
       "    </tr>\n",
       "    <tr>\n",
       "      <td>...</td>\n",
       "      <td>...</td>\n",
       "      <td>...</td>\n",
       "      <td>...</td>\n",
       "      <td>...</td>\n",
       "      <td>...</td>\n",
       "      <td>...</td>\n",
       "      <td>...</td>\n",
       "      <td>...</td>\n",
       "      <td>...</td>\n",
       "      <td>...</td>\n",
       "      <td>...</td>\n",
       "      <td>...</td>\n",
       "      <td>...</td>\n",
       "      <td>...</td>\n",
       "    </tr>\n",
       "    <tr>\n",
       "      <td>10</td>\n",
       "      <td>4288271</td>\n",
       "      <td>0.0</td>\n",
       "      <td>43.0</td>\n",
       "      <td>0.0</td>\n",
       "      <td>0.0</td>\n",
       "      <td>43.0</td>\n",
       "      <td>C</td>\n",
       "      <td>0</td>\n",
       "      <td>67</td>\n",
       "      <td>0</td>\n",
       "      <td>0</td>\n",
       "      <td>67</td>\n",
       "      <td>ERR1764671</td>\n",
       "      <td>typhi_v1.2</td>\n",
       "    </tr>\n",
       "    <tr>\n",
       "      <td>49</td>\n",
       "      <td>4355242</td>\n",
       "      <td>0.0</td>\n",
       "      <td>0.0</td>\n",
       "      <td>0.0</td>\n",
       "      <td>47.0</td>\n",
       "      <td>47.0</td>\n",
       "      <td>T</td>\n",
       "      <td>0</td>\n",
       "      <td>0</td>\n",
       "      <td>0</td>\n",
       "      <td>70</td>\n",
       "      <td>70</td>\n",
       "      <td>ERR1764671</td>\n",
       "      <td>typhi_v1.2</td>\n",
       "    </tr>\n",
       "    <tr>\n",
       "      <td>26</td>\n",
       "      <td>4388608</td>\n",
       "      <td>0.0</td>\n",
       "      <td>0.0</td>\n",
       "      <td>0.0</td>\n",
       "      <td>49.0</td>\n",
       "      <td>49.0</td>\n",
       "      <td>T</td>\n",
       "      <td>0</td>\n",
       "      <td>0</td>\n",
       "      <td>0</td>\n",
       "      <td>67</td>\n",
       "      <td>67</td>\n",
       "      <td>ERR1764671</td>\n",
       "      <td>typhi_v1.2</td>\n",
       "    </tr>\n",
       "    <tr>\n",
       "      <td>21</td>\n",
       "      <td>4602945</td>\n",
       "      <td>0.0</td>\n",
       "      <td>53.0</td>\n",
       "      <td>0.0</td>\n",
       "      <td>0.0</td>\n",
       "      <td>53.0</td>\n",
       "      <td>C</td>\n",
       "      <td>1</td>\n",
       "      <td>72</td>\n",
       "      <td>0</td>\n",
       "      <td>0</td>\n",
       "      <td>73</td>\n",
       "      <td>ERR1764671</td>\n",
       "      <td>typhi_v1.2</td>\n",
       "    </tr>\n",
       "    <tr>\n",
       "      <td>32</td>\n",
       "      <td>4664136</td>\n",
       "      <td>0.0</td>\n",
       "      <td>42.0</td>\n",
       "      <td>0.0</td>\n",
       "      <td>0.0</td>\n",
       "      <td>42.0</td>\n",
       "      <td>C</td>\n",
       "      <td>0</td>\n",
       "      <td>61</td>\n",
       "      <td>0</td>\n",
       "      <td>0</td>\n",
       "      <td>61</td>\n",
       "      <td>ERR1764671</td>\n",
       "      <td>typhi_v1.2</td>\n",
       "    </tr>\n",
       "  </tbody>\n",
       "</table>\n",
       "<p>67978 rows × 14 columns</p>\n",
       "</div>"
      ],
      "text/plain": [
       "    position  biohansel_A  biohansel_C  biohansel_G  biohansel_T  \\\n",
       "13     30191          0.0         59.0          0.0          0.0   \n",
       "17    102134          0.0          0.0         58.0          0.0   \n",
       "49    146672          0.0          0.0         55.0          0.0   \n",
       "50    183032          0.0         57.0          0.0          0.0   \n",
       "3     270119          0.0         40.0          0.0          0.0   \n",
       "..       ...          ...          ...          ...          ...   \n",
       "10   4288271          0.0         43.0          0.0          0.0   \n",
       "49   4355242          0.0          0.0          0.0         47.0   \n",
       "26   4388608          0.0          0.0          0.0         49.0   \n",
       "21   4602945          0.0         53.0          0.0          0.0   \n",
       "32   4664136          0.0         42.0          0.0          0.0   \n",
       "\n",
       "    biohansel_depth snippy_call  snippy_A  snippy_C  snippy_G  snippy_T  \\\n",
       "13             59.0           C         0        73         0         0   \n",
       "17             58.0           G         0         0        73         0   \n",
       "49             55.0           G         0         0        76         0   \n",
       "50             57.0           C         0        78         0         0   \n",
       "3              40.0           C         0        57         0         0   \n",
       "..              ...         ...       ...       ...       ...       ...   \n",
       "10             43.0           C         0        67         0         0   \n",
       "49             47.0           T         0         0         0        70   \n",
       "26             49.0           T         0         0         0        67   \n",
       "21             53.0           C         1        72         0         0   \n",
       "32             42.0           C         0        61         0         0   \n",
       "\n",
       "    snippy_depth      genome      scheme  \n",
       "13            73  ERR1791820  typhi_v1.2  \n",
       "17            73  ERR1791820  typhi_v1.2  \n",
       "49            76  ERR1791820  typhi_v1.2  \n",
       "50            78  ERR1791820  typhi_v1.2  \n",
       "3             57  ERR1791820  typhi_v1.2  \n",
       "..           ...         ...         ...  \n",
       "10            67  ERR1764671  typhi_v1.2  \n",
       "49            70  ERR1764671  typhi_v1.2  \n",
       "26            67  ERR1764671  typhi_v1.2  \n",
       "21            73  ERR1764671  typhi_v1.2  \n",
       "32            61  ERR1764671  typhi_v1.2  \n",
       "\n",
       "[67978 rows x 14 columns]"
      ]
     },
     "execution_count": 5,
     "metadata": {},
     "output_type": "execute_result"
    }
   ],
   "source": [
    "df_all"
   ]
  },
  {
   "cell_type": "markdown",
   "metadata": {},
   "source": [
    "Mean biohansel kmer frequency for all 68 kmer markers and 1000 genomes"
   ]
  },
  {
   "cell_type": "code",
   "execution_count": 6,
   "metadata": {
    "ExecuteTime": {
     "end_time": "2019-11-07T16:41:48.952651Z",
     "start_time": "2019-11-07T16:41:48.946354Z"
    }
   },
   "outputs": [
    {
     "data": {
      "text/plain": [
       "55.73157956685499"
      ]
     },
     "execution_count": 6,
     "metadata": {},
     "output_type": "execute_result"
    }
   ],
   "source": [
    "df_all.biohansel_depth.mean()"
   ]
  },
  {
   "cell_type": "markdown",
   "metadata": {},
   "source": [
    "Mean Snippy SNV read mapping coverage depth"
   ]
  },
  {
   "cell_type": "code",
   "execution_count": 7,
   "metadata": {
    "ExecuteTime": {
     "end_time": "2019-11-07T16:41:48.961120Z",
     "start_time": "2019-11-07T16:41:48.955246Z"
    }
   },
   "outputs": [
    {
     "data": {
      "text/plain": [
       "76.87713672070376"
      ]
     },
     "execution_count": 7,
     "metadata": {},
     "output_type": "execute_result"
    }
   ],
   "source": [
    "df_all.snippy_depth.mean()"
   ]
  },
  {
   "cell_type": "markdown",
   "metadata": {
    "ExecuteTime": {
     "end_time": "2019-11-07T16:14:37.808204Z",
     "start_time": "2019-11-07T16:14:37.801753Z"
    }
   },
   "source": [
    "Proportion of biohansel mean kmer frequency to Snippy mean read mapping coverage depth"
   ]
  },
  {
   "cell_type": "code",
   "execution_count": 8,
   "metadata": {
    "ExecuteTime": {
     "end_time": "2019-11-07T16:41:48.972206Z",
     "start_time": "2019-11-07T16:41:48.965263Z"
    }
   },
   "outputs": [
    {
     "data": {
      "text/plain": [
       "0.7249434870256547"
      ]
     },
     "execution_count": 8,
     "metadata": {},
     "output_type": "execute_result"
    }
   ],
   "source": [
    "df_all.biohansel_depth.mean() / df_all.snippy_depth.mean()"
   ]
  },
  {
   "cell_type": "markdown",
   "metadata": {
    "ExecuteTime": {
     "end_time": "2019-11-07T16:14:37.808204Z",
     "start_time": "2019-11-07T16:14:37.801753Z"
    }
   },
   "source": [
    "Proportion of biohansel median kmer frequency to Snippy median read mapping coverage depth"
   ]
  },
  {
   "cell_type": "code",
   "execution_count": 9,
   "metadata": {
    "ExecuteTime": {
     "end_time": "2019-11-07T16:41:48.987109Z",
     "start_time": "2019-11-07T16:41:48.975535Z"
    }
   },
   "outputs": [
    {
     "data": {
      "text/plain": [
       "0.7246376811594203"
      ]
     },
     "execution_count": 9,
     "metadata": {},
     "output_type": "execute_result"
    }
   ],
   "source": [
    "df_all.biohansel_depth.median() / df_all.snippy_depth.median()"
   ]
  },
  {
   "cell_type": "markdown",
   "metadata": {},
   "source": [
    "Ensure that there are 1000 genome's worth of results"
   ]
  },
  {
   "cell_type": "code",
   "execution_count": 10,
   "metadata": {
    "ExecuteTime": {
     "end_time": "2019-11-07T16:41:49.000938Z",
     "start_time": "2019-11-07T16:41:48.989578Z"
    }
   },
   "outputs": [
    {
     "data": {
      "text/plain": [
       "1000"
      ]
     },
     "execution_count": 10,
     "metadata": {},
     "output_type": "execute_result"
    }
   ],
   "source": [
    "df_all.genome.unique().size"
   ]
  },
  {
   "cell_type": "markdown",
   "metadata": {},
   "source": [
    "Show instances where there are mixed biohansel results at 3X min kmer frequency"
   ]
  },
  {
   "cell_type": "code",
   "execution_count": 11,
   "metadata": {
    "ExecuteTime": {
     "end_time": "2019-11-07T16:41:49.061217Z",
     "start_time": "2019-11-07T16:41:49.003406Z"
    }
   },
   "outputs": [
    {
     "data": {
      "text/html": [
       "<div>\n",
       "<style scoped>\n",
       "    .dataframe tbody tr th:only-of-type {\n",
       "        vertical-align: middle;\n",
       "    }\n",
       "\n",
       "    .dataframe tbody tr th {\n",
       "        vertical-align: top;\n",
       "    }\n",
       "\n",
       "    .dataframe thead th {\n",
       "        text-align: right;\n",
       "    }\n",
       "</style>\n",
       "<table border=\"1\" class=\"dataframe\">\n",
       "  <thead>\n",
       "    <tr style=\"text-align: right;\">\n",
       "      <th></th>\n",
       "      <th>position</th>\n",
       "      <th>biohansel_A</th>\n",
       "      <th>biohansel_C</th>\n",
       "      <th>biohansel_G</th>\n",
       "      <th>biohansel_T</th>\n",
       "      <th>biohansel_depth</th>\n",
       "      <th>snippy_call</th>\n",
       "      <th>snippy_A</th>\n",
       "      <th>snippy_C</th>\n",
       "      <th>snippy_G</th>\n",
       "      <th>snippy_T</th>\n",
       "      <th>snippy_depth</th>\n",
       "      <th>genome</th>\n",
       "      <th>scheme</th>\n",
       "    </tr>\n",
       "  </thead>\n",
       "  <tbody>\n",
       "    <tr>\n",
       "      <td>0</td>\n",
       "      <td>1215982</td>\n",
       "      <td>0.0</td>\n",
       "      <td>0.0</td>\n",
       "      <td>5.0</td>\n",
       "      <td>89.0</td>\n",
       "      <td>94.0</td>\n",
       "      <td>T</td>\n",
       "      <td>0</td>\n",
       "      <td>0</td>\n",
       "      <td>1</td>\n",
       "      <td>96</td>\n",
       "      <td>97</td>\n",
       "      <td>ERR279134</td>\n",
       "      <td>typhi_v1.2</td>\n",
       "    </tr>\n",
       "    <tr>\n",
       "      <td>2</td>\n",
       "      <td>1215982</td>\n",
       "      <td>0.0</td>\n",
       "      <td>0.0</td>\n",
       "      <td>5.0</td>\n",
       "      <td>83.0</td>\n",
       "      <td>88.0</td>\n",
       "      <td>T</td>\n",
       "      <td>0</td>\n",
       "      <td>1</td>\n",
       "      <td>0</td>\n",
       "      <td>98</td>\n",
       "      <td>99</td>\n",
       "      <td>ERR460297</td>\n",
       "      <td>typhi_v1.2</td>\n",
       "    </tr>\n",
       "    <tr>\n",
       "      <td>0</td>\n",
       "      <td>1215982</td>\n",
       "      <td>0.0</td>\n",
       "      <td>0.0</td>\n",
       "      <td>3.0</td>\n",
       "      <td>62.0</td>\n",
       "      <td>65.0</td>\n",
       "      <td>T</td>\n",
       "      <td>0</td>\n",
       "      <td>0</td>\n",
       "      <td>1</td>\n",
       "      <td>77</td>\n",
       "      <td>78</td>\n",
       "      <td>ERR331320</td>\n",
       "      <td>typhi_v1.2</td>\n",
       "    </tr>\n",
       "    <tr>\n",
       "      <td>2</td>\n",
       "      <td>1215982</td>\n",
       "      <td>0.0</td>\n",
       "      <td>0.0</td>\n",
       "      <td>3.0</td>\n",
       "      <td>51.0</td>\n",
       "      <td>54.0</td>\n",
       "      <td>T</td>\n",
       "      <td>0</td>\n",
       "      <td>0</td>\n",
       "      <td>0</td>\n",
       "      <td>69</td>\n",
       "      <td>69</td>\n",
       "      <td>ERR586911</td>\n",
       "      <td>typhi_v1.2</td>\n",
       "    </tr>\n",
       "    <tr>\n",
       "      <td>0</td>\n",
       "      <td>1840726</td>\n",
       "      <td>32.0</td>\n",
       "      <td>0.0</td>\n",
       "      <td>6.0</td>\n",
       "      <td>0.0</td>\n",
       "      <td>38.0</td>\n",
       "      <td>G</td>\n",
       "      <td>45</td>\n",
       "      <td>0</td>\n",
       "      <td>6</td>\n",
       "      <td>0</td>\n",
       "      <td>51</td>\n",
       "      <td>ERR467084</td>\n",
       "      <td>typhi_v1.2</td>\n",
       "    </tr>\n",
       "    <tr>\n",
       "      <td>...</td>\n",
       "      <td>...</td>\n",
       "      <td>...</td>\n",
       "      <td>...</td>\n",
       "      <td>...</td>\n",
       "      <td>...</td>\n",
       "      <td>...</td>\n",
       "      <td>...</td>\n",
       "      <td>...</td>\n",
       "      <td>...</td>\n",
       "      <td>...</td>\n",
       "      <td>...</td>\n",
       "      <td>...</td>\n",
       "      <td>...</td>\n",
       "      <td>...</td>\n",
       "    </tr>\n",
       "    <tr>\n",
       "      <td>1</td>\n",
       "      <td>1215982</td>\n",
       "      <td>0.0</td>\n",
       "      <td>0.0</td>\n",
       "      <td>4.0</td>\n",
       "      <td>153.0</td>\n",
       "      <td>157.0</td>\n",
       "      <td>T</td>\n",
       "      <td>0</td>\n",
       "      <td>1</td>\n",
       "      <td>3</td>\n",
       "      <td>214</td>\n",
       "      <td>218</td>\n",
       "      <td>ERR204271</td>\n",
       "      <td>typhi_v1.2</td>\n",
       "    </tr>\n",
       "    <tr>\n",
       "      <td>2</td>\n",
       "      <td>3476113</td>\n",
       "      <td>0.0</td>\n",
       "      <td>3.0</td>\n",
       "      <td>0.0</td>\n",
       "      <td>61.0</td>\n",
       "      <td>64.0</td>\n",
       "      <td>T</td>\n",
       "      <td>0</td>\n",
       "      <td>4</td>\n",
       "      <td>0</td>\n",
       "      <td>70</td>\n",
       "      <td>74</td>\n",
       "      <td>ERR326637</td>\n",
       "      <td>typhi_v1.2</td>\n",
       "    </tr>\n",
       "    <tr>\n",
       "      <td>0</td>\n",
       "      <td>1215982</td>\n",
       "      <td>0.0</td>\n",
       "      <td>0.0</td>\n",
       "      <td>3.0</td>\n",
       "      <td>66.0</td>\n",
       "      <td>69.0</td>\n",
       "      <td>T</td>\n",
       "      <td>0</td>\n",
       "      <td>0</td>\n",
       "      <td>0</td>\n",
       "      <td>80</td>\n",
       "      <td>80</td>\n",
       "      <td>ERR460236</td>\n",
       "      <td>typhi_v1.2</td>\n",
       "    </tr>\n",
       "    <tr>\n",
       "      <td>3</td>\n",
       "      <td>1615349</td>\n",
       "      <td>0.0</td>\n",
       "      <td>68.0</td>\n",
       "      <td>0.0</td>\n",
       "      <td>4.0</td>\n",
       "      <td>72.0</td>\n",
       "      <td>C</td>\n",
       "      <td>0</td>\n",
       "      <td>89</td>\n",
       "      <td>0</td>\n",
       "      <td>5</td>\n",
       "      <td>94</td>\n",
       "      <td>ERR279182</td>\n",
       "      <td>typhi_v1.2</td>\n",
       "    </tr>\n",
       "    <tr>\n",
       "      <td>2</td>\n",
       "      <td>3437569</td>\n",
       "      <td>4.0</td>\n",
       "      <td>62.0</td>\n",
       "      <td>0.0</td>\n",
       "      <td>0.0</td>\n",
       "      <td>66.0</td>\n",
       "      <td>C</td>\n",
       "      <td>7</td>\n",
       "      <td>82</td>\n",
       "      <td>0</td>\n",
       "      <td>0</td>\n",
       "      <td>89</td>\n",
       "      <td>ERR279182</td>\n",
       "      <td>typhi_v1.2</td>\n",
       "    </tr>\n",
       "  </tbody>\n",
       "</table>\n",
       "<p>72 rows × 14 columns</p>\n",
       "</div>"
      ],
      "text/plain": [
       "    position  biohansel_A  biohansel_C  biohansel_G  biohansel_T  \\\n",
       "0    1215982          0.0          0.0          5.0         89.0   \n",
       "2    1215982          0.0          0.0          5.0         83.0   \n",
       "0    1215982          0.0          0.0          3.0         62.0   \n",
       "2    1215982          0.0          0.0          3.0         51.0   \n",
       "0    1840726         32.0          0.0          6.0          0.0   \n",
       "..       ...          ...          ...          ...          ...   \n",
       "1    1215982          0.0          0.0          4.0        153.0   \n",
       "2    3476113          0.0          3.0          0.0         61.0   \n",
       "0    1215982          0.0          0.0          3.0         66.0   \n",
       "3    1615349          0.0         68.0          0.0          4.0   \n",
       "2    3437569          4.0         62.0          0.0          0.0   \n",
       "\n",
       "    biohansel_depth snippy_call  snippy_A  snippy_C  snippy_G  snippy_T  \\\n",
       "0              94.0           T         0         0         1        96   \n",
       "2              88.0           T         0         1         0        98   \n",
       "0              65.0           T         0         0         1        77   \n",
       "2              54.0           T         0         0         0        69   \n",
       "0              38.0           G        45         0         6         0   \n",
       "..              ...         ...       ...       ...       ...       ...   \n",
       "1             157.0           T         0         1         3       214   \n",
       "2              64.0           T         0         4         0        70   \n",
       "0              69.0           T         0         0         0        80   \n",
       "3              72.0           C         0        89         0         5   \n",
       "2              66.0           C         7        82         0         0   \n",
       "\n",
       "    snippy_depth     genome      scheme  \n",
       "0             97  ERR279134  typhi_v1.2  \n",
       "2             99  ERR460297  typhi_v1.2  \n",
       "0             78  ERR331320  typhi_v1.2  \n",
       "2             69  ERR586911  typhi_v1.2  \n",
       "0             51  ERR467084  typhi_v1.2  \n",
       "..           ...        ...         ...  \n",
       "1            218  ERR204271  typhi_v1.2  \n",
       "2             74  ERR326637  typhi_v1.2  \n",
       "0             80  ERR460236  typhi_v1.2  \n",
       "3             94  ERR279182  typhi_v1.2  \n",
       "2             89  ERR279182  typhi_v1.2  \n",
       "\n",
       "[72 rows x 14 columns]"
      ]
     },
     "execution_count": 11,
     "metadata": {},
     "output_type": "execute_result"
    }
   ],
   "source": [
    "df_all[((df_all.loc[:,['biohansel_A', 'biohansel_G', 'biohansel_C', 'biohansel_T']] >= 3).sum(axis=1) > 1)]"
   ]
  },
  {
   "cell_type": "markdown",
   "metadata": {},
   "source": [
    "Show instances where there are mixed Snippy results at 3X min coverage"
   ]
  },
  {
   "cell_type": "code",
   "execution_count": 12,
   "metadata": {
    "ExecuteTime": {
     "end_time": "2019-11-07T16:41:49.098382Z",
     "start_time": "2019-11-07T16:41:49.063416Z"
    }
   },
   "outputs": [
    {
     "data": {
      "text/html": [
       "<div>\n",
       "<style scoped>\n",
       "    .dataframe tbody tr th:only-of-type {\n",
       "        vertical-align: middle;\n",
       "    }\n",
       "\n",
       "    .dataframe tbody tr th {\n",
       "        vertical-align: top;\n",
       "    }\n",
       "\n",
       "    .dataframe thead th {\n",
       "        text-align: right;\n",
       "    }\n",
       "</style>\n",
       "<table border=\"1\" class=\"dataframe\">\n",
       "  <thead>\n",
       "    <tr style=\"text-align: right;\">\n",
       "      <th></th>\n",
       "      <th>position</th>\n",
       "      <th>biohansel_A</th>\n",
       "      <th>biohansel_C</th>\n",
       "      <th>biohansel_G</th>\n",
       "      <th>biohansel_T</th>\n",
       "      <th>biohansel_depth</th>\n",
       "      <th>snippy_call</th>\n",
       "      <th>snippy_A</th>\n",
       "      <th>snippy_C</th>\n",
       "      <th>snippy_G</th>\n",
       "      <th>snippy_T</th>\n",
       "      <th>snippy_depth</th>\n",
       "      <th>genome</th>\n",
       "      <th>scheme</th>\n",
       "    </tr>\n",
       "  </thead>\n",
       "  <tbody>\n",
       "    <tr>\n",
       "      <td>9</td>\n",
       "      <td>1215982</td>\n",
       "      <td>0.0</td>\n",
       "      <td>0.0</td>\n",
       "      <td>0.0</td>\n",
       "      <td>63.0</td>\n",
       "      <td>63.0</td>\n",
       "      <td>T</td>\n",
       "      <td>0</td>\n",
       "      <td>3</td>\n",
       "      <td>2</td>\n",
       "      <td>80</td>\n",
       "      <td>85</td>\n",
       "      <td>ERR314380</td>\n",
       "      <td>typhi_v1.2</td>\n",
       "    </tr>\n",
       "    <tr>\n",
       "      <td>1</td>\n",
       "      <td>146672</td>\n",
       "      <td>185.0</td>\n",
       "      <td>0.0</td>\n",
       "      <td>0.0</td>\n",
       "      <td>0.0</td>\n",
       "      <td>185.0</td>\n",
       "      <td>A</td>\n",
       "      <td>262</td>\n",
       "      <td>1</td>\n",
       "      <td>3</td>\n",
       "      <td>0</td>\n",
       "      <td>266</td>\n",
       "      <td>ERR1556249</td>\n",
       "      <td>typhi_v1.2</td>\n",
       "    </tr>\n",
       "    <tr>\n",
       "      <td>46</td>\n",
       "      <td>30191</td>\n",
       "      <td>0.0</td>\n",
       "      <td>39.0</td>\n",
       "      <td>0.0</td>\n",
       "      <td>0.0</td>\n",
       "      <td>39.0</td>\n",
       "      <td>C</td>\n",
       "      <td>5</td>\n",
       "      <td>64</td>\n",
       "      <td>0</td>\n",
       "      <td>0</td>\n",
       "      <td>69</td>\n",
       "      <td>ERR467084</td>\n",
       "      <td>typhi_v1.2</td>\n",
       "    </tr>\n",
       "    <tr>\n",
       "      <td>60</td>\n",
       "      <td>316185</td>\n",
       "      <td>0.0</td>\n",
       "      <td>50.0</td>\n",
       "      <td>0.0</td>\n",
       "      <td>0.0</td>\n",
       "      <td>50.0</td>\n",
       "      <td>C</td>\n",
       "      <td>7</td>\n",
       "      <td>73</td>\n",
       "      <td>0</td>\n",
       "      <td>0</td>\n",
       "      <td>80</td>\n",
       "      <td>ERR467084</td>\n",
       "      <td>typhi_v1.2</td>\n",
       "    </tr>\n",
       "    <tr>\n",
       "      <td>17</td>\n",
       "      <td>1215982</td>\n",
       "      <td>0.0</td>\n",
       "      <td>0.0</td>\n",
       "      <td>0.0</td>\n",
       "      <td>40.0</td>\n",
       "      <td>40.0</td>\n",
       "      <td>T</td>\n",
       "      <td>0</td>\n",
       "      <td>4</td>\n",
       "      <td>0</td>\n",
       "      <td>53</td>\n",
       "      <td>57</td>\n",
       "      <td>ERR467084</td>\n",
       "      <td>typhi_v1.2</td>\n",
       "    </tr>\n",
       "    <tr>\n",
       "      <td>...</td>\n",
       "      <td>...</td>\n",
       "      <td>...</td>\n",
       "      <td>...</td>\n",
       "      <td>...</td>\n",
       "      <td>...</td>\n",
       "      <td>...</td>\n",
       "      <td>...</td>\n",
       "      <td>...</td>\n",
       "      <td>...</td>\n",
       "      <td>...</td>\n",
       "      <td>...</td>\n",
       "      <td>...</td>\n",
       "      <td>...</td>\n",
       "      <td>...</td>\n",
       "    </tr>\n",
       "    <tr>\n",
       "      <td>2</td>\n",
       "      <td>3476113</td>\n",
       "      <td>0.0</td>\n",
       "      <td>3.0</td>\n",
       "      <td>0.0</td>\n",
       "      <td>61.0</td>\n",
       "      <td>64.0</td>\n",
       "      <td>T</td>\n",
       "      <td>0</td>\n",
       "      <td>4</td>\n",
       "      <td>0</td>\n",
       "      <td>70</td>\n",
       "      <td>74</td>\n",
       "      <td>ERR326637</td>\n",
       "      <td>typhi_v1.2</td>\n",
       "    </tr>\n",
       "    <tr>\n",
       "      <td>3</td>\n",
       "      <td>1615349</td>\n",
       "      <td>0.0</td>\n",
       "      <td>68.0</td>\n",
       "      <td>0.0</td>\n",
       "      <td>4.0</td>\n",
       "      <td>72.0</td>\n",
       "      <td>C</td>\n",
       "      <td>0</td>\n",
       "      <td>89</td>\n",
       "      <td>0</td>\n",
       "      <td>5</td>\n",
       "      <td>94</td>\n",
       "      <td>ERR279182</td>\n",
       "      <td>typhi_v1.2</td>\n",
       "    </tr>\n",
       "    <tr>\n",
       "      <td>1</td>\n",
       "      <td>1780318</td>\n",
       "      <td>62.0</td>\n",
       "      <td>0.0</td>\n",
       "      <td>0.0</td>\n",
       "      <td>0.0</td>\n",
       "      <td>62.0</td>\n",
       "      <td>A</td>\n",
       "      <td>89</td>\n",
       "      <td>0</td>\n",
       "      <td>4</td>\n",
       "      <td>1</td>\n",
       "      <td>94</td>\n",
       "      <td>ERR279182</td>\n",
       "      <td>typhi_v1.2</td>\n",
       "    </tr>\n",
       "    <tr>\n",
       "      <td>13</td>\n",
       "      <td>3062269</td>\n",
       "      <td>0.0</td>\n",
       "      <td>64.0</td>\n",
       "      <td>0.0</td>\n",
       "      <td>0.0</td>\n",
       "      <td>64.0</td>\n",
       "      <td>C</td>\n",
       "      <td>0</td>\n",
       "      <td>87</td>\n",
       "      <td>0</td>\n",
       "      <td>3</td>\n",
       "      <td>90</td>\n",
       "      <td>ERR279182</td>\n",
       "      <td>typhi_v1.2</td>\n",
       "    </tr>\n",
       "    <tr>\n",
       "      <td>2</td>\n",
       "      <td>3437569</td>\n",
       "      <td>4.0</td>\n",
       "      <td>62.0</td>\n",
       "      <td>0.0</td>\n",
       "      <td>0.0</td>\n",
       "      <td>66.0</td>\n",
       "      <td>C</td>\n",
       "      <td>7</td>\n",
       "      <td>82</td>\n",
       "      <td>0</td>\n",
       "      <td>0</td>\n",
       "      <td>89</td>\n",
       "      <td>ERR279182</td>\n",
       "      <td>typhi_v1.2</td>\n",
       "    </tr>\n",
       "  </tbody>\n",
       "</table>\n",
       "<p>92 rows × 14 columns</p>\n",
       "</div>"
      ],
      "text/plain": [
       "    position  biohansel_A  biohansel_C  biohansel_G  biohansel_T  \\\n",
       "9    1215982          0.0          0.0          0.0         63.0   \n",
       "1     146672        185.0          0.0          0.0          0.0   \n",
       "46     30191          0.0         39.0          0.0          0.0   \n",
       "60    316185          0.0         50.0          0.0          0.0   \n",
       "17   1215982          0.0          0.0          0.0         40.0   \n",
       "..       ...          ...          ...          ...          ...   \n",
       "2    3476113          0.0          3.0          0.0         61.0   \n",
       "3    1615349          0.0         68.0          0.0          4.0   \n",
       "1    1780318         62.0          0.0          0.0          0.0   \n",
       "13   3062269          0.0         64.0          0.0          0.0   \n",
       "2    3437569          4.0         62.0          0.0          0.0   \n",
       "\n",
       "    biohansel_depth snippy_call  snippy_A  snippy_C  snippy_G  snippy_T  \\\n",
       "9              63.0           T         0         3         2        80   \n",
       "1             185.0           A       262         1         3         0   \n",
       "46             39.0           C         5        64         0         0   \n",
       "60             50.0           C         7        73         0         0   \n",
       "17             40.0           T         0         4         0        53   \n",
       "..              ...         ...       ...       ...       ...       ...   \n",
       "2              64.0           T         0         4         0        70   \n",
       "3              72.0           C         0        89         0         5   \n",
       "1              62.0           A        89         0         4         1   \n",
       "13             64.0           C         0        87         0         3   \n",
       "2              66.0           C         7        82         0         0   \n",
       "\n",
       "    snippy_depth      genome      scheme  \n",
       "9             85   ERR314380  typhi_v1.2  \n",
       "1            266  ERR1556249  typhi_v1.2  \n",
       "46            69   ERR467084  typhi_v1.2  \n",
       "60            80   ERR467084  typhi_v1.2  \n",
       "17            57   ERR467084  typhi_v1.2  \n",
       "..           ...         ...         ...  \n",
       "2             74   ERR326637  typhi_v1.2  \n",
       "3             94   ERR279182  typhi_v1.2  \n",
       "1             94   ERR279182  typhi_v1.2  \n",
       "13            90   ERR279182  typhi_v1.2  \n",
       "2             89   ERR279182  typhi_v1.2  \n",
       "\n",
       "[92 rows x 14 columns]"
      ]
     },
     "execution_count": 12,
     "metadata": {},
     "output_type": "execute_result"
    }
   ],
   "source": [
    "df_all[((df_all.loc[:,['snippy_A', 'snippy_G', 'snippy_C', 'snippy_T']] >= 3).sum(axis=1) > 1)]"
   ]
  },
  {
   "cell_type": "markdown",
   "metadata": {},
   "source": [
    "Show instances where there are mixed biohansel results at 6X min kmer frequency"
   ]
  },
  {
   "cell_type": "code",
   "execution_count": 13,
   "metadata": {
    "ExecuteTime": {
     "end_time": "2019-11-07T16:41:49.124268Z",
     "start_time": "2019-11-07T16:41:49.100312Z"
    }
   },
   "outputs": [
    {
     "data": {
      "text/html": [
       "<div>\n",
       "<style scoped>\n",
       "    .dataframe tbody tr th:only-of-type {\n",
       "        vertical-align: middle;\n",
       "    }\n",
       "\n",
       "    .dataframe tbody tr th {\n",
       "        vertical-align: top;\n",
       "    }\n",
       "\n",
       "    .dataframe thead th {\n",
       "        text-align: right;\n",
       "    }\n",
       "</style>\n",
       "<table border=\"1\" class=\"dataframe\">\n",
       "  <thead>\n",
       "    <tr style=\"text-align: right;\">\n",
       "      <th></th>\n",
       "      <th>position</th>\n",
       "      <th>biohansel_A</th>\n",
       "      <th>biohansel_C</th>\n",
       "      <th>biohansel_G</th>\n",
       "      <th>biohansel_T</th>\n",
       "      <th>biohansel_depth</th>\n",
       "      <th>snippy_call</th>\n",
       "      <th>snippy_A</th>\n",
       "      <th>snippy_C</th>\n",
       "      <th>snippy_G</th>\n",
       "      <th>snippy_T</th>\n",
       "      <th>snippy_depth</th>\n",
       "      <th>genome</th>\n",
       "      <th>scheme</th>\n",
       "    </tr>\n",
       "  </thead>\n",
       "  <tbody>\n",
       "    <tr>\n",
       "      <td>0</td>\n",
       "      <td>1840726</td>\n",
       "      <td>32.0</td>\n",
       "      <td>0.0</td>\n",
       "      <td>6.0</td>\n",
       "      <td>0.0</td>\n",
       "      <td>38.0</td>\n",
       "      <td>G</td>\n",
       "      <td>45</td>\n",
       "      <td>0</td>\n",
       "      <td>6</td>\n",
       "      <td>0</td>\n",
       "      <td>51</td>\n",
       "      <td>ERR467084</td>\n",
       "      <td>typhi_v1.2</td>\n",
       "    </tr>\n",
       "    <tr>\n",
       "      <td>0</td>\n",
       "      <td>316488</td>\n",
       "      <td>0.0</td>\n",
       "      <td>6.0</td>\n",
       "      <td>0.0</td>\n",
       "      <td>67.0</td>\n",
       "      <td>73.0</td>\n",
       "      <td>T</td>\n",
       "      <td>0</td>\n",
       "      <td>7</td>\n",
       "      <td>0</td>\n",
       "      <td>85</td>\n",
       "      <td>92</td>\n",
       "      <td>ERR279137</td>\n",
       "      <td>typhi_v1.2</td>\n",
       "    </tr>\n",
       "    <tr>\n",
       "      <td>5</td>\n",
       "      <td>2737026</td>\n",
       "      <td>74.0</td>\n",
       "      <td>0.0</td>\n",
       "      <td>6.0</td>\n",
       "      <td>0.0</td>\n",
       "      <td>80.0</td>\n",
       "      <td>A</td>\n",
       "      <td>101</td>\n",
       "      <td>0</td>\n",
       "      <td>9</td>\n",
       "      <td>0</td>\n",
       "      <td>110</td>\n",
       "      <td>ERR279137</td>\n",
       "      <td>typhi_v1.2</td>\n",
       "    </tr>\n",
       "    <tr>\n",
       "      <td>4</td>\n",
       "      <td>3996716</td>\n",
       "      <td>0.0</td>\n",
       "      <td>6.0</td>\n",
       "      <td>0.0</td>\n",
       "      <td>97.0</td>\n",
       "      <td>103.0</td>\n",
       "      <td>T</td>\n",
       "      <td>0</td>\n",
       "      <td>10</td>\n",
       "      <td>0</td>\n",
       "      <td>130</td>\n",
       "      <td>140</td>\n",
       "      <td>ERR279137</td>\n",
       "      <td>typhi_v1.2</td>\n",
       "    </tr>\n",
       "    <tr>\n",
       "      <td>2</td>\n",
       "      <td>2342044</td>\n",
       "      <td>60.0</td>\n",
       "      <td>0.0</td>\n",
       "      <td>7.0</td>\n",
       "      <td>0.0</td>\n",
       "      <td>67.0</td>\n",
       "      <td>A</td>\n",
       "      <td>85</td>\n",
       "      <td>0</td>\n",
       "      <td>8</td>\n",
       "      <td>0</td>\n",
       "      <td>93</td>\n",
       "      <td>ERR279117</td>\n",
       "      <td>typhi_v1.2</td>\n",
       "    </tr>\n",
       "  </tbody>\n",
       "</table>\n",
       "</div>"
      ],
      "text/plain": [
       "   position  biohansel_A  biohansel_C  biohansel_G  biohansel_T  \\\n",
       "0   1840726         32.0          0.0          6.0          0.0   \n",
       "0    316488          0.0          6.0          0.0         67.0   \n",
       "5   2737026         74.0          0.0          6.0          0.0   \n",
       "4   3996716          0.0          6.0          0.0         97.0   \n",
       "2   2342044         60.0          0.0          7.0          0.0   \n",
       "\n",
       "   biohansel_depth snippy_call  snippy_A  snippy_C  snippy_G  snippy_T  \\\n",
       "0             38.0           G        45         0         6         0   \n",
       "0             73.0           T         0         7         0        85   \n",
       "5             80.0           A       101         0         9         0   \n",
       "4            103.0           T         0        10         0       130   \n",
       "2             67.0           A        85         0         8         0   \n",
       "\n",
       "   snippy_depth     genome      scheme  \n",
       "0            51  ERR467084  typhi_v1.2  \n",
       "0            92  ERR279137  typhi_v1.2  \n",
       "5           110  ERR279137  typhi_v1.2  \n",
       "4           140  ERR279137  typhi_v1.2  \n",
       "2            93  ERR279117  typhi_v1.2  "
      ]
     },
     "execution_count": 13,
     "metadata": {},
     "output_type": "execute_result"
    }
   ],
   "source": [
    "df_all[((df_all.loc[:,['biohansel_A', 'biohansel_G', 'biohansel_C', 'biohansel_T']] >= 6).sum(axis=1) > 1)]"
   ]
  },
  {
   "cell_type": "markdown",
   "metadata": {},
   "source": [
    "Show instances where there are mixed Snippy results at 6X min coverage"
   ]
  },
  {
   "cell_type": "code",
   "execution_count": 14,
   "metadata": {
    "ExecuteTime": {
     "end_time": "2019-11-07T16:41:49.156379Z",
     "start_time": "2019-11-07T16:41:49.126166Z"
    }
   },
   "outputs": [
    {
     "data": {
      "text/html": [
       "<div>\n",
       "<style scoped>\n",
       "    .dataframe tbody tr th:only-of-type {\n",
       "        vertical-align: middle;\n",
       "    }\n",
       "\n",
       "    .dataframe tbody tr th {\n",
       "        vertical-align: top;\n",
       "    }\n",
       "\n",
       "    .dataframe thead th {\n",
       "        text-align: right;\n",
       "    }\n",
       "</style>\n",
       "<table border=\"1\" class=\"dataframe\">\n",
       "  <thead>\n",
       "    <tr style=\"text-align: right;\">\n",
       "      <th></th>\n",
       "      <th>position</th>\n",
       "      <th>biohansel_A</th>\n",
       "      <th>biohansel_C</th>\n",
       "      <th>biohansel_G</th>\n",
       "      <th>biohansel_T</th>\n",
       "      <th>biohansel_depth</th>\n",
       "      <th>snippy_call</th>\n",
       "      <th>snippy_A</th>\n",
       "      <th>snippy_C</th>\n",
       "      <th>snippy_G</th>\n",
       "      <th>snippy_T</th>\n",
       "      <th>snippy_depth</th>\n",
       "      <th>genome</th>\n",
       "      <th>scheme</th>\n",
       "    </tr>\n",
       "  </thead>\n",
       "  <tbody>\n",
       "    <tr>\n",
       "      <td>60</td>\n",
       "      <td>316185</td>\n",
       "      <td>0.0</td>\n",
       "      <td>50.0</td>\n",
       "      <td>0.0</td>\n",
       "      <td>0.0</td>\n",
       "      <td>50.0</td>\n",
       "      <td>C</td>\n",
       "      <td>7</td>\n",
       "      <td>73</td>\n",
       "      <td>0</td>\n",
       "      <td>0</td>\n",
       "      <td>80</td>\n",
       "      <td>ERR467084</td>\n",
       "      <td>typhi_v1.2</td>\n",
       "    </tr>\n",
       "    <tr>\n",
       "      <td>0</td>\n",
       "      <td>1840726</td>\n",
       "      <td>32.0</td>\n",
       "      <td>0.0</td>\n",
       "      <td>6.0</td>\n",
       "      <td>0.0</td>\n",
       "      <td>38.0</td>\n",
       "      <td>G</td>\n",
       "      <td>45</td>\n",
       "      <td>0</td>\n",
       "      <td>6</td>\n",
       "      <td>0</td>\n",
       "      <td>51</td>\n",
       "      <td>ERR467084</td>\n",
       "      <td>typhi_v1.2</td>\n",
       "    </tr>\n",
       "    <tr>\n",
       "      <td>56</td>\n",
       "      <td>1934710</td>\n",
       "      <td>0.0</td>\n",
       "      <td>47.0</td>\n",
       "      <td>0.0</td>\n",
       "      <td>0.0</td>\n",
       "      <td>47.0</td>\n",
       "      <td>C</td>\n",
       "      <td>0</td>\n",
       "      <td>67</td>\n",
       "      <td>0</td>\n",
       "      <td>6</td>\n",
       "      <td>73</td>\n",
       "      <td>ERR467084</td>\n",
       "      <td>typhi_v1.2</td>\n",
       "    </tr>\n",
       "    <tr>\n",
       "      <td>40</td>\n",
       "      <td>30191</td>\n",
       "      <td>0.0</td>\n",
       "      <td>67.0</td>\n",
       "      <td>0.0</td>\n",
       "      <td>0.0</td>\n",
       "      <td>67.0</td>\n",
       "      <td>C</td>\n",
       "      <td>9</td>\n",
       "      <td>85</td>\n",
       "      <td>0</td>\n",
       "      <td>0</td>\n",
       "      <td>94</td>\n",
       "      <td>ERR279137</td>\n",
       "      <td>typhi_v1.2</td>\n",
       "    </tr>\n",
       "    <tr>\n",
       "      <td>0</td>\n",
       "      <td>316488</td>\n",
       "      <td>0.0</td>\n",
       "      <td>6.0</td>\n",
       "      <td>0.0</td>\n",
       "      <td>67.0</td>\n",
       "      <td>73.0</td>\n",
       "      <td>T</td>\n",
       "      <td>0</td>\n",
       "      <td>7</td>\n",
       "      <td>0</td>\n",
       "      <td>85</td>\n",
       "      <td>92</td>\n",
       "      <td>ERR279137</td>\n",
       "      <td>typhi_v1.2</td>\n",
       "    </tr>\n",
       "    <tr>\n",
       "      <td>39</td>\n",
       "      <td>1215982</td>\n",
       "      <td>0.0</td>\n",
       "      <td>0.0</td>\n",
       "      <td>0.0</td>\n",
       "      <td>96.0</td>\n",
       "      <td>96.0</td>\n",
       "      <td>T</td>\n",
       "      <td>0</td>\n",
       "      <td>7</td>\n",
       "      <td>0</td>\n",
       "      <td>110</td>\n",
       "      <td>117</td>\n",
       "      <td>ERR279137</td>\n",
       "      <td>typhi_v1.2</td>\n",
       "    </tr>\n",
       "    <tr>\n",
       "      <td>3</td>\n",
       "      <td>1615349</td>\n",
       "      <td>0.0</td>\n",
       "      <td>3.0</td>\n",
       "      <td>0.0</td>\n",
       "      <td>57.0</td>\n",
       "      <td>60.0</td>\n",
       "      <td>T</td>\n",
       "      <td>0</td>\n",
       "      <td>6</td>\n",
       "      <td>0</td>\n",
       "      <td>77</td>\n",
       "      <td>83</td>\n",
       "      <td>ERR279137</td>\n",
       "      <td>typhi_v1.2</td>\n",
       "    </tr>\n",
       "    <tr>\n",
       "      <td>1</td>\n",
       "      <td>1934710</td>\n",
       "      <td>0.0</td>\n",
       "      <td>54.0</td>\n",
       "      <td>0.0</td>\n",
       "      <td>3.0</td>\n",
       "      <td>57.0</td>\n",
       "      <td>C</td>\n",
       "      <td>0</td>\n",
       "      <td>73</td>\n",
       "      <td>0</td>\n",
       "      <td>6</td>\n",
       "      <td>79</td>\n",
       "      <td>ERR279137</td>\n",
       "      <td>typhi_v1.2</td>\n",
       "    </tr>\n",
       "    <tr>\n",
       "      <td>5</td>\n",
       "      <td>2737026</td>\n",
       "      <td>74.0</td>\n",
       "      <td>0.0</td>\n",
       "      <td>6.0</td>\n",
       "      <td>0.0</td>\n",
       "      <td>80.0</td>\n",
       "      <td>A</td>\n",
       "      <td>101</td>\n",
       "      <td>0</td>\n",
       "      <td>9</td>\n",
       "      <td>0</td>\n",
       "      <td>110</td>\n",
       "      <td>ERR279137</td>\n",
       "      <td>typhi_v1.2</td>\n",
       "    </tr>\n",
       "    <tr>\n",
       "      <td>6</td>\n",
       "      <td>3062269</td>\n",
       "      <td>0.0</td>\n",
       "      <td>5.0</td>\n",
       "      <td>0.0</td>\n",
       "      <td>62.0</td>\n",
       "      <td>67.0</td>\n",
       "      <td>T</td>\n",
       "      <td>0</td>\n",
       "      <td>7</td>\n",
       "      <td>0</td>\n",
       "      <td>79</td>\n",
       "      <td>86</td>\n",
       "      <td>ERR279137</td>\n",
       "      <td>typhi_v1.2</td>\n",
       "    </tr>\n",
       "    <tr>\n",
       "      <td>4</td>\n",
       "      <td>3996716</td>\n",
       "      <td>0.0</td>\n",
       "      <td>6.0</td>\n",
       "      <td>0.0</td>\n",
       "      <td>97.0</td>\n",
       "      <td>103.0</td>\n",
       "      <td>T</td>\n",
       "      <td>0</td>\n",
       "      <td>10</td>\n",
       "      <td>0</td>\n",
       "      <td>130</td>\n",
       "      <td>140</td>\n",
       "      <td>ERR279137</td>\n",
       "      <td>typhi_v1.2</td>\n",
       "    </tr>\n",
       "    <tr>\n",
       "      <td>53</td>\n",
       "      <td>30191</td>\n",
       "      <td>0.0</td>\n",
       "      <td>69.0</td>\n",
       "      <td>0.0</td>\n",
       "      <td>0.0</td>\n",
       "      <td>69.0</td>\n",
       "      <td>C</td>\n",
       "      <td>6</td>\n",
       "      <td>100</td>\n",
       "      <td>0</td>\n",
       "      <td>1</td>\n",
       "      <td>107</td>\n",
       "      <td>ERR314357</td>\n",
       "      <td>typhi_v1.2</td>\n",
       "    </tr>\n",
       "    <tr>\n",
       "      <td>0</td>\n",
       "      <td>2342044</td>\n",
       "      <td>87.0</td>\n",
       "      <td>0.0</td>\n",
       "      <td>3.0</td>\n",
       "      <td>0.0</td>\n",
       "      <td>90.0</td>\n",
       "      <td>A</td>\n",
       "      <td>126</td>\n",
       "      <td>0</td>\n",
       "      <td>7</td>\n",
       "      <td>0</td>\n",
       "      <td>133</td>\n",
       "      <td>ERR340816</td>\n",
       "      <td>typhi_v1.2</td>\n",
       "    </tr>\n",
       "    <tr>\n",
       "      <td>2</td>\n",
       "      <td>2342044</td>\n",
       "      <td>55.0</td>\n",
       "      <td>0.0</td>\n",
       "      <td>5.0</td>\n",
       "      <td>0.0</td>\n",
       "      <td>60.0</td>\n",
       "      <td>A</td>\n",
       "      <td>56</td>\n",
       "      <td>0</td>\n",
       "      <td>6</td>\n",
       "      <td>0</td>\n",
       "      <td>62</td>\n",
       "      <td>ERR326654</td>\n",
       "      <td>typhi_v1.2</td>\n",
       "    </tr>\n",
       "    <tr>\n",
       "      <td>2</td>\n",
       "      <td>2342044</td>\n",
       "      <td>60.0</td>\n",
       "      <td>0.0</td>\n",
       "      <td>7.0</td>\n",
       "      <td>0.0</td>\n",
       "      <td>67.0</td>\n",
       "      <td>A</td>\n",
       "      <td>85</td>\n",
       "      <td>0</td>\n",
       "      <td>8</td>\n",
       "      <td>0</td>\n",
       "      <td>93</td>\n",
       "      <td>ERR279117</td>\n",
       "      <td>typhi_v1.2</td>\n",
       "    </tr>\n",
       "    <tr>\n",
       "      <td>2</td>\n",
       "      <td>4355242</td>\n",
       "      <td>0.0</td>\n",
       "      <td>50.0</td>\n",
       "      <td>0.0</td>\n",
       "      <td>0.0</td>\n",
       "      <td>50.0</td>\n",
       "      <td>C</td>\n",
       "      <td>0</td>\n",
       "      <td>62</td>\n",
       "      <td>0</td>\n",
       "      <td>6</td>\n",
       "      <td>68</td>\n",
       "      <td>ERR1791790</td>\n",
       "      <td>typhi_v1.2</td>\n",
       "    </tr>\n",
       "    <tr>\n",
       "      <td>2</td>\n",
       "      <td>4215340</td>\n",
       "      <td>0.0</td>\n",
       "      <td>3.0</td>\n",
       "      <td>0.0</td>\n",
       "      <td>110.0</td>\n",
       "      <td>113.0</td>\n",
       "      <td>T</td>\n",
       "      <td>0</td>\n",
       "      <td>6</td>\n",
       "      <td>0</td>\n",
       "      <td>147</td>\n",
       "      <td>153</td>\n",
       "      <td>ERR340769</td>\n",
       "      <td>typhi_v1.2</td>\n",
       "    </tr>\n",
       "    <tr>\n",
       "      <td>4</td>\n",
       "      <td>2640028</td>\n",
       "      <td>58.0</td>\n",
       "      <td>0.0</td>\n",
       "      <td>5.0</td>\n",
       "      <td>0.0</td>\n",
       "      <td>63.0</td>\n",
       "      <td>G</td>\n",
       "      <td>72</td>\n",
       "      <td>0</td>\n",
       "      <td>7</td>\n",
       "      <td>0</td>\n",
       "      <td>79</td>\n",
       "      <td>ERR331261</td>\n",
       "      <td>typhi_v1.2</td>\n",
       "    </tr>\n",
       "    <tr>\n",
       "      <td>2</td>\n",
       "      <td>3437569</td>\n",
       "      <td>4.0</td>\n",
       "      <td>62.0</td>\n",
       "      <td>0.0</td>\n",
       "      <td>0.0</td>\n",
       "      <td>66.0</td>\n",
       "      <td>C</td>\n",
       "      <td>7</td>\n",
       "      <td>82</td>\n",
       "      <td>0</td>\n",
       "      <td>0</td>\n",
       "      <td>89</td>\n",
       "      <td>ERR279182</td>\n",
       "      <td>typhi_v1.2</td>\n",
       "    </tr>\n",
       "  </tbody>\n",
       "</table>\n",
       "</div>"
      ],
      "text/plain": [
       "    position  biohansel_A  biohansel_C  biohansel_G  biohansel_T  \\\n",
       "60    316185          0.0         50.0          0.0          0.0   \n",
       "0    1840726         32.0          0.0          6.0          0.0   \n",
       "56   1934710          0.0         47.0          0.0          0.0   \n",
       "40     30191          0.0         67.0          0.0          0.0   \n",
       "0     316488          0.0          6.0          0.0         67.0   \n",
       "39   1215982          0.0          0.0          0.0         96.0   \n",
       "3    1615349          0.0          3.0          0.0         57.0   \n",
       "1    1934710          0.0         54.0          0.0          3.0   \n",
       "5    2737026         74.0          0.0          6.0          0.0   \n",
       "6    3062269          0.0          5.0          0.0         62.0   \n",
       "4    3996716          0.0          6.0          0.0         97.0   \n",
       "53     30191          0.0         69.0          0.0          0.0   \n",
       "0    2342044         87.0          0.0          3.0          0.0   \n",
       "2    2342044         55.0          0.0          5.0          0.0   \n",
       "2    2342044         60.0          0.0          7.0          0.0   \n",
       "2    4355242          0.0         50.0          0.0          0.0   \n",
       "2    4215340          0.0          3.0          0.0        110.0   \n",
       "4    2640028         58.0          0.0          5.0          0.0   \n",
       "2    3437569          4.0         62.0          0.0          0.0   \n",
       "\n",
       "    biohansel_depth snippy_call  snippy_A  snippy_C  snippy_G  snippy_T  \\\n",
       "60             50.0           C         7        73         0         0   \n",
       "0              38.0           G        45         0         6         0   \n",
       "56             47.0           C         0        67         0         6   \n",
       "40             67.0           C         9        85         0         0   \n",
       "0              73.0           T         0         7         0        85   \n",
       "39             96.0           T         0         7         0       110   \n",
       "3              60.0           T         0         6         0        77   \n",
       "1              57.0           C         0        73         0         6   \n",
       "5              80.0           A       101         0         9         0   \n",
       "6              67.0           T         0         7         0        79   \n",
       "4             103.0           T         0        10         0       130   \n",
       "53             69.0           C         6       100         0         1   \n",
       "0              90.0           A       126         0         7         0   \n",
       "2              60.0           A        56         0         6         0   \n",
       "2              67.0           A        85         0         8         0   \n",
       "2              50.0           C         0        62         0         6   \n",
       "2             113.0           T         0         6         0       147   \n",
       "4              63.0           G        72         0         7         0   \n",
       "2              66.0           C         7        82         0         0   \n",
       "\n",
       "    snippy_depth      genome      scheme  \n",
       "60            80   ERR467084  typhi_v1.2  \n",
       "0             51   ERR467084  typhi_v1.2  \n",
       "56            73   ERR467084  typhi_v1.2  \n",
       "40            94   ERR279137  typhi_v1.2  \n",
       "0             92   ERR279137  typhi_v1.2  \n",
       "39           117   ERR279137  typhi_v1.2  \n",
       "3             83   ERR279137  typhi_v1.2  \n",
       "1             79   ERR279137  typhi_v1.2  \n",
       "5            110   ERR279137  typhi_v1.2  \n",
       "6             86   ERR279137  typhi_v1.2  \n",
       "4            140   ERR279137  typhi_v1.2  \n",
       "53           107   ERR314357  typhi_v1.2  \n",
       "0            133   ERR340816  typhi_v1.2  \n",
       "2             62   ERR326654  typhi_v1.2  \n",
       "2             93   ERR279117  typhi_v1.2  \n",
       "2             68  ERR1791790  typhi_v1.2  \n",
       "2            153   ERR340769  typhi_v1.2  \n",
       "4             79   ERR331261  typhi_v1.2  \n",
       "2             89   ERR279182  typhi_v1.2  "
      ]
     },
     "execution_count": 14,
     "metadata": {},
     "output_type": "execute_result"
    }
   ],
   "source": [
    "df_all[((df_all.loc[:,['snippy_A', 'snippy_G', 'snippy_C', 'snippy_T']] >= 6).sum(axis=1) > 1)]"
   ]
  },
  {
   "cell_type": "markdown",
   "metadata": {},
   "source": [
    "Show instances where there are mixed biohansel results at 8X min kmer frequency"
   ]
  },
  {
   "cell_type": "code",
   "execution_count": 15,
   "metadata": {
    "ExecuteTime": {
     "end_time": "2019-11-07T16:41:49.174948Z",
     "start_time": "2019-11-07T16:41:49.158506Z"
    }
   },
   "outputs": [
    {
     "data": {
      "text/html": [
       "<div>\n",
       "<style scoped>\n",
       "    .dataframe tbody tr th:only-of-type {\n",
       "        vertical-align: middle;\n",
       "    }\n",
       "\n",
       "    .dataframe tbody tr th {\n",
       "        vertical-align: top;\n",
       "    }\n",
       "\n",
       "    .dataframe thead th {\n",
       "        text-align: right;\n",
       "    }\n",
       "</style>\n",
       "<table border=\"1\" class=\"dataframe\">\n",
       "  <thead>\n",
       "    <tr style=\"text-align: right;\">\n",
       "      <th></th>\n",
       "      <th>position</th>\n",
       "      <th>biohansel_A</th>\n",
       "      <th>biohansel_C</th>\n",
       "      <th>biohansel_G</th>\n",
       "      <th>biohansel_T</th>\n",
       "      <th>biohansel_depth</th>\n",
       "      <th>snippy_call</th>\n",
       "      <th>snippy_A</th>\n",
       "      <th>snippy_C</th>\n",
       "      <th>snippy_G</th>\n",
       "      <th>snippy_T</th>\n",
       "      <th>snippy_depth</th>\n",
       "      <th>genome</th>\n",
       "      <th>scheme</th>\n",
       "    </tr>\n",
       "  </thead>\n",
       "  <tbody>\n",
       "  </tbody>\n",
       "</table>\n",
       "</div>"
      ],
      "text/plain": [
       "Empty DataFrame\n",
       "Columns: [position, biohansel_A, biohansel_C, biohansel_G, biohansel_T, biohansel_depth, snippy_call, snippy_A, snippy_C, snippy_G, snippy_T, snippy_depth, genome, scheme]\n",
       "Index: []"
      ]
     },
     "execution_count": 15,
     "metadata": {},
     "output_type": "execute_result"
    }
   ],
   "source": [
    "df_all[((df_all.loc[:,['biohansel_A', 'biohansel_G', 'biohansel_C', 'biohansel_T']] >= 8).sum(axis=1) > 1)]"
   ]
  },
  {
   "cell_type": "markdown",
   "metadata": {},
   "source": [
    "What are the most frequent Snippy calls?"
   ]
  },
  {
   "cell_type": "code",
   "execution_count": 16,
   "metadata": {
    "ExecuteTime": {
     "end_time": "2019-11-07T16:41:49.189508Z",
     "start_time": "2019-11-07T16:41:49.176817Z"
    }
   },
   "outputs": [
    {
     "data": {
      "text/plain": [
       "C    29936\n",
       "G    26624\n",
       "T     7061\n",
       "A     4357\n",
       "Name: snippy_call, dtype: int64"
      ]
     },
     "execution_count": 16,
     "metadata": {},
     "output_type": "execute_result"
    }
   ],
   "source": [
    "df_all.snippy_call.value_counts()"
   ]
  },
  {
   "cell_type": "markdown",
   "metadata": {},
   "source": [
    "Summary stats of Snippy coverage depths at 68 SNV positions"
   ]
  },
  {
   "cell_type": "code",
   "execution_count": 17,
   "metadata": {
    "ExecuteTime": {
     "end_time": "2019-11-07T16:41:49.203381Z",
     "start_time": "2019-11-07T16:41:49.191451Z"
    }
   },
   "outputs": [
    {
     "data": {
      "text/plain": [
       "count    67978.000000\n",
       "mean        76.877137\n",
       "std         35.262588\n",
       "min          4.000000\n",
       "25%         56.000000\n",
       "50%         69.000000\n",
       "75%         86.000000\n",
       "max        439.000000\n",
       "Name: snippy_depth, dtype: float64"
      ]
     },
     "execution_count": 17,
     "metadata": {},
     "output_type": "execute_result"
    }
   ],
   "source": [
    "df_all.snippy_depth.describe()"
   ]
  },
  {
   "cell_type": "markdown",
   "metadata": {},
   "source": [
    "Summary stats of BioHansel kmer frequency at 68 SNV positions"
   ]
  },
  {
   "cell_type": "code",
   "execution_count": 18,
   "metadata": {
    "ExecuteTime": {
     "end_time": "2019-11-07T16:41:49.217633Z",
     "start_time": "2019-11-07T16:41:49.205452Z"
    }
   },
   "outputs": [
    {
     "data": {
      "text/plain": [
       "count    67968.000000\n",
       "mean        55.731580\n",
       "std         25.656317\n",
       "min          3.000000\n",
       "25%         41.000000\n",
       "50%         50.000000\n",
       "75%         63.000000\n",
       "max        293.000000\n",
       "Name: biohansel_depth, dtype: float64"
      ]
     },
     "execution_count": 18,
     "metadata": {},
     "output_type": "execute_result"
    }
   ],
   "source": [
    "df_all.biohansel_depth.describe()"
   ]
  },
  {
   "cell_type": "code",
   "execution_count": 19,
   "metadata": {
    "ExecuteTime": {
     "end_time": "2019-11-07T16:41:49.223810Z",
     "start_time": "2019-11-07T16:41:49.219786Z"
    }
   },
   "outputs": [
    {
     "data": {
      "text/plain": [
       "(67978, 14)"
      ]
     },
     "execution_count": 19,
     "metadata": {},
     "output_type": "execute_result"
    }
   ],
   "source": [
    "df_all.shape"
   ]
  },
  {
   "cell_type": "markdown",
   "metadata": {},
   "source": [
    "## Fill in missing BioHansel/Snippy results\n",
    "\n",
    "There are multiple missing BioHansel or Snippy results that need to be filled in and accounted for. To do that, a DataFrame (DF) will be constructed from each combination of genome to SNV position. This DF should have 68,000 rows.\n",
    "\n",
    "The genome/SNV position DF will be merged (joined) with `df_all` and the missing values (`NaN` or `NA`) will be replaced with `0` for numeric fields. "
   ]
  },
  {
   "cell_type": "code",
   "execution_count": 20,
   "metadata": {
    "ExecuteTime": {
     "end_time": "2019-11-07T16:41:49.787246Z",
     "start_time": "2019-11-07T16:41:49.228224Z"
    }
   },
   "outputs": [],
   "source": [
    "df_position_genome = pd.DataFrame([(p,g) for g in df_all.genome.unique() for p in df_all.position.unique()], columns=('position','genome'))"
   ]
  },
  {
   "cell_type": "code",
   "execution_count": 21,
   "metadata": {
    "ExecuteTime": {
     "end_time": "2019-11-07T16:41:49.798581Z",
     "start_time": "2019-11-07T16:41:49.789932Z"
    }
   },
   "outputs": [
    {
     "data": {
      "text/html": [
       "<div>\n",
       "<style scoped>\n",
       "    .dataframe tbody tr th:only-of-type {\n",
       "        vertical-align: middle;\n",
       "    }\n",
       "\n",
       "    .dataframe tbody tr th {\n",
       "        vertical-align: top;\n",
       "    }\n",
       "\n",
       "    .dataframe thead th {\n",
       "        text-align: right;\n",
       "    }\n",
       "</style>\n",
       "<table border=\"1\" class=\"dataframe\">\n",
       "  <thead>\n",
       "    <tr style=\"text-align: right;\">\n",
       "      <th></th>\n",
       "      <th>position</th>\n",
       "      <th>genome</th>\n",
       "    </tr>\n",
       "  </thead>\n",
       "  <tbody>\n",
       "    <tr>\n",
       "      <td>0</td>\n",
       "      <td>30191</td>\n",
       "      <td>ERR1791820</td>\n",
       "    </tr>\n",
       "    <tr>\n",
       "      <td>1</td>\n",
       "      <td>102134</td>\n",
       "      <td>ERR1791820</td>\n",
       "    </tr>\n",
       "    <tr>\n",
       "      <td>2</td>\n",
       "      <td>146672</td>\n",
       "      <td>ERR1791820</td>\n",
       "    </tr>\n",
       "    <tr>\n",
       "      <td>3</td>\n",
       "      <td>183032</td>\n",
       "      <td>ERR1791820</td>\n",
       "    </tr>\n",
       "    <tr>\n",
       "      <td>4</td>\n",
       "      <td>270119</td>\n",
       "      <td>ERR1791820</td>\n",
       "    </tr>\n",
       "    <tr>\n",
       "      <td>...</td>\n",
       "      <td>...</td>\n",
       "      <td>...</td>\n",
       "    </tr>\n",
       "    <tr>\n",
       "      <td>67995</td>\n",
       "      <td>4288271</td>\n",
       "      <td>ERR1764671</td>\n",
       "    </tr>\n",
       "    <tr>\n",
       "      <td>67996</td>\n",
       "      <td>4355242</td>\n",
       "      <td>ERR1764671</td>\n",
       "    </tr>\n",
       "    <tr>\n",
       "      <td>67997</td>\n",
       "      <td>4388608</td>\n",
       "      <td>ERR1764671</td>\n",
       "    </tr>\n",
       "    <tr>\n",
       "      <td>67998</td>\n",
       "      <td>4602945</td>\n",
       "      <td>ERR1764671</td>\n",
       "    </tr>\n",
       "    <tr>\n",
       "      <td>67999</td>\n",
       "      <td>4664136</td>\n",
       "      <td>ERR1764671</td>\n",
       "    </tr>\n",
       "  </tbody>\n",
       "</table>\n",
       "<p>68000 rows × 2 columns</p>\n",
       "</div>"
      ],
      "text/plain": [
       "       position      genome\n",
       "0         30191  ERR1791820\n",
       "1        102134  ERR1791820\n",
       "2        146672  ERR1791820\n",
       "3        183032  ERR1791820\n",
       "4        270119  ERR1791820\n",
       "...         ...         ...\n",
       "67995   4288271  ERR1764671\n",
       "67996   4355242  ERR1764671\n",
       "67997   4388608  ERR1764671\n",
       "67998   4602945  ERR1764671\n",
       "67999   4664136  ERR1764671\n",
       "\n",
       "[68000 rows x 2 columns]"
      ]
     },
     "execution_count": 21,
     "metadata": {},
     "output_type": "execute_result"
    }
   ],
   "source": [
    "df_position_genome"
   ]
  },
  {
   "cell_type": "code",
   "execution_count": 22,
   "metadata": {
    "ExecuteTime": {
     "end_time": "2019-11-07T16:41:49.863974Z",
     "start_time": "2019-11-07T16:41:49.800205Z"
    }
   },
   "outputs": [],
   "source": [
    "df_68k = pd.merge(df_position_genome, df_all, how='left', on=['position', 'genome'])"
   ]
  },
  {
   "cell_type": "code",
   "execution_count": 23,
   "metadata": {
    "ExecuteTime": {
     "end_time": "2019-11-07T16:41:49.903868Z",
     "start_time": "2019-11-07T16:41:49.866517Z"
    }
   },
   "outputs": [
    {
     "data": {
      "text/html": [
       "<div>\n",
       "<style scoped>\n",
       "    .dataframe tbody tr th:only-of-type {\n",
       "        vertical-align: middle;\n",
       "    }\n",
       "\n",
       "    .dataframe tbody tr th {\n",
       "        vertical-align: top;\n",
       "    }\n",
       "\n",
       "    .dataframe thead th {\n",
       "        text-align: right;\n",
       "    }\n",
       "</style>\n",
       "<table border=\"1\" class=\"dataframe\">\n",
       "  <thead>\n",
       "    <tr style=\"text-align: right;\">\n",
       "      <th></th>\n",
       "      <th>position</th>\n",
       "      <th>genome</th>\n",
       "      <th>biohansel_A</th>\n",
       "      <th>biohansel_C</th>\n",
       "      <th>biohansel_G</th>\n",
       "      <th>biohansel_T</th>\n",
       "      <th>biohansel_depth</th>\n",
       "      <th>snippy_call</th>\n",
       "      <th>snippy_A</th>\n",
       "      <th>snippy_C</th>\n",
       "      <th>snippy_G</th>\n",
       "      <th>snippy_T</th>\n",
       "      <th>snippy_depth</th>\n",
       "      <th>scheme</th>\n",
       "    </tr>\n",
       "  </thead>\n",
       "  <tbody>\n",
       "    <tr>\n",
       "      <td>0</td>\n",
       "      <td>30191</td>\n",
       "      <td>ERR1791820</td>\n",
       "      <td>0.0</td>\n",
       "      <td>59.0</td>\n",
       "      <td>0.0</td>\n",
       "      <td>0.0</td>\n",
       "      <td>59.0</td>\n",
       "      <td>C</td>\n",
       "      <td>0.0</td>\n",
       "      <td>73.0</td>\n",
       "      <td>0.0</td>\n",
       "      <td>0.0</td>\n",
       "      <td>73.0</td>\n",
       "      <td>typhi_v1.2</td>\n",
       "    </tr>\n",
       "    <tr>\n",
       "      <td>1</td>\n",
       "      <td>102134</td>\n",
       "      <td>ERR1791820</td>\n",
       "      <td>0.0</td>\n",
       "      <td>0.0</td>\n",
       "      <td>58.0</td>\n",
       "      <td>0.0</td>\n",
       "      <td>58.0</td>\n",
       "      <td>G</td>\n",
       "      <td>0.0</td>\n",
       "      <td>0.0</td>\n",
       "      <td>73.0</td>\n",
       "      <td>0.0</td>\n",
       "      <td>73.0</td>\n",
       "      <td>typhi_v1.2</td>\n",
       "    </tr>\n",
       "    <tr>\n",
       "      <td>2</td>\n",
       "      <td>146672</td>\n",
       "      <td>ERR1791820</td>\n",
       "      <td>0.0</td>\n",
       "      <td>0.0</td>\n",
       "      <td>55.0</td>\n",
       "      <td>0.0</td>\n",
       "      <td>55.0</td>\n",
       "      <td>G</td>\n",
       "      <td>0.0</td>\n",
       "      <td>0.0</td>\n",
       "      <td>76.0</td>\n",
       "      <td>0.0</td>\n",
       "      <td>76.0</td>\n",
       "      <td>typhi_v1.2</td>\n",
       "    </tr>\n",
       "    <tr>\n",
       "      <td>3</td>\n",
       "      <td>183032</td>\n",
       "      <td>ERR1791820</td>\n",
       "      <td>0.0</td>\n",
       "      <td>57.0</td>\n",
       "      <td>0.0</td>\n",
       "      <td>0.0</td>\n",
       "      <td>57.0</td>\n",
       "      <td>C</td>\n",
       "      <td>0.0</td>\n",
       "      <td>78.0</td>\n",
       "      <td>0.0</td>\n",
       "      <td>0.0</td>\n",
       "      <td>78.0</td>\n",
       "      <td>typhi_v1.2</td>\n",
       "    </tr>\n",
       "    <tr>\n",
       "      <td>4</td>\n",
       "      <td>270119</td>\n",
       "      <td>ERR1791820</td>\n",
       "      <td>0.0</td>\n",
       "      <td>40.0</td>\n",
       "      <td>0.0</td>\n",
       "      <td>0.0</td>\n",
       "      <td>40.0</td>\n",
       "      <td>C</td>\n",
       "      <td>0.0</td>\n",
       "      <td>57.0</td>\n",
       "      <td>0.0</td>\n",
       "      <td>0.0</td>\n",
       "      <td>57.0</td>\n",
       "      <td>typhi_v1.2</td>\n",
       "    </tr>\n",
       "    <tr>\n",
       "      <td>...</td>\n",
       "      <td>...</td>\n",
       "      <td>...</td>\n",
       "      <td>...</td>\n",
       "      <td>...</td>\n",
       "      <td>...</td>\n",
       "      <td>...</td>\n",
       "      <td>...</td>\n",
       "      <td>...</td>\n",
       "      <td>...</td>\n",
       "      <td>...</td>\n",
       "      <td>...</td>\n",
       "      <td>...</td>\n",
       "      <td>...</td>\n",
       "      <td>...</td>\n",
       "    </tr>\n",
       "    <tr>\n",
       "      <td>67995</td>\n",
       "      <td>4288271</td>\n",
       "      <td>ERR1764671</td>\n",
       "      <td>0.0</td>\n",
       "      <td>43.0</td>\n",
       "      <td>0.0</td>\n",
       "      <td>0.0</td>\n",
       "      <td>43.0</td>\n",
       "      <td>C</td>\n",
       "      <td>0.0</td>\n",
       "      <td>67.0</td>\n",
       "      <td>0.0</td>\n",
       "      <td>0.0</td>\n",
       "      <td>67.0</td>\n",
       "      <td>typhi_v1.2</td>\n",
       "    </tr>\n",
       "    <tr>\n",
       "      <td>67996</td>\n",
       "      <td>4355242</td>\n",
       "      <td>ERR1764671</td>\n",
       "      <td>0.0</td>\n",
       "      <td>0.0</td>\n",
       "      <td>0.0</td>\n",
       "      <td>47.0</td>\n",
       "      <td>47.0</td>\n",
       "      <td>T</td>\n",
       "      <td>0.0</td>\n",
       "      <td>0.0</td>\n",
       "      <td>0.0</td>\n",
       "      <td>70.0</td>\n",
       "      <td>70.0</td>\n",
       "      <td>typhi_v1.2</td>\n",
       "    </tr>\n",
       "    <tr>\n",
       "      <td>67997</td>\n",
       "      <td>4388608</td>\n",
       "      <td>ERR1764671</td>\n",
       "      <td>0.0</td>\n",
       "      <td>0.0</td>\n",
       "      <td>0.0</td>\n",
       "      <td>49.0</td>\n",
       "      <td>49.0</td>\n",
       "      <td>T</td>\n",
       "      <td>0.0</td>\n",
       "      <td>0.0</td>\n",
       "      <td>0.0</td>\n",
       "      <td>67.0</td>\n",
       "      <td>67.0</td>\n",
       "      <td>typhi_v1.2</td>\n",
       "    </tr>\n",
       "    <tr>\n",
       "      <td>67998</td>\n",
       "      <td>4602945</td>\n",
       "      <td>ERR1764671</td>\n",
       "      <td>0.0</td>\n",
       "      <td>53.0</td>\n",
       "      <td>0.0</td>\n",
       "      <td>0.0</td>\n",
       "      <td>53.0</td>\n",
       "      <td>C</td>\n",
       "      <td>1.0</td>\n",
       "      <td>72.0</td>\n",
       "      <td>0.0</td>\n",
       "      <td>0.0</td>\n",
       "      <td>73.0</td>\n",
       "      <td>typhi_v1.2</td>\n",
       "    </tr>\n",
       "    <tr>\n",
       "      <td>67999</td>\n",
       "      <td>4664136</td>\n",
       "      <td>ERR1764671</td>\n",
       "      <td>0.0</td>\n",
       "      <td>42.0</td>\n",
       "      <td>0.0</td>\n",
       "      <td>0.0</td>\n",
       "      <td>42.0</td>\n",
       "      <td>C</td>\n",
       "      <td>0.0</td>\n",
       "      <td>61.0</td>\n",
       "      <td>0.0</td>\n",
       "      <td>0.0</td>\n",
       "      <td>61.0</td>\n",
       "      <td>typhi_v1.2</td>\n",
       "    </tr>\n",
       "  </tbody>\n",
       "</table>\n",
       "<p>68000 rows × 14 columns</p>\n",
       "</div>"
      ],
      "text/plain": [
       "       position      genome  biohansel_A  biohansel_C  biohansel_G  \\\n",
       "0         30191  ERR1791820          0.0         59.0          0.0   \n",
       "1        102134  ERR1791820          0.0          0.0         58.0   \n",
       "2        146672  ERR1791820          0.0          0.0         55.0   \n",
       "3        183032  ERR1791820          0.0         57.0          0.0   \n",
       "4        270119  ERR1791820          0.0         40.0          0.0   \n",
       "...         ...         ...          ...          ...          ...   \n",
       "67995   4288271  ERR1764671          0.0         43.0          0.0   \n",
       "67996   4355242  ERR1764671          0.0          0.0          0.0   \n",
       "67997   4388608  ERR1764671          0.0          0.0          0.0   \n",
       "67998   4602945  ERR1764671          0.0         53.0          0.0   \n",
       "67999   4664136  ERR1764671          0.0         42.0          0.0   \n",
       "\n",
       "       biohansel_T  biohansel_depth snippy_call  snippy_A  snippy_C  snippy_G  \\\n",
       "0              0.0             59.0           C       0.0      73.0       0.0   \n",
       "1              0.0             58.0           G       0.0       0.0      73.0   \n",
       "2              0.0             55.0           G       0.0       0.0      76.0   \n",
       "3              0.0             57.0           C       0.0      78.0       0.0   \n",
       "4              0.0             40.0           C       0.0      57.0       0.0   \n",
       "...            ...              ...         ...       ...       ...       ...   \n",
       "67995          0.0             43.0           C       0.0      67.0       0.0   \n",
       "67996         47.0             47.0           T       0.0       0.0       0.0   \n",
       "67997         49.0             49.0           T       0.0       0.0       0.0   \n",
       "67998          0.0             53.0           C       1.0      72.0       0.0   \n",
       "67999          0.0             42.0           C       0.0      61.0       0.0   \n",
       "\n",
       "       snippy_T  snippy_depth      scheme  \n",
       "0           0.0          73.0  typhi_v1.2  \n",
       "1           0.0          73.0  typhi_v1.2  \n",
       "2           0.0          76.0  typhi_v1.2  \n",
       "3           0.0          78.0  typhi_v1.2  \n",
       "4           0.0          57.0  typhi_v1.2  \n",
       "...         ...           ...         ...  \n",
       "67995       0.0          67.0  typhi_v1.2  \n",
       "67996      70.0          70.0  typhi_v1.2  \n",
       "67997      67.0          67.0  typhi_v1.2  \n",
       "67998       0.0          73.0  typhi_v1.2  \n",
       "67999       0.0          61.0  typhi_v1.2  \n",
       "\n",
       "[68000 rows x 14 columns]"
      ]
     },
     "execution_count": 23,
     "metadata": {},
     "output_type": "execute_result"
    }
   ],
   "source": [
    "df_68k"
   ]
  },
  {
   "cell_type": "code",
   "execution_count": 24,
   "metadata": {
    "ExecuteTime": {
     "end_time": "2019-11-07T16:41:49.909096Z",
     "start_time": "2019-11-07T16:41:49.906192Z"
    }
   },
   "outputs": [],
   "source": [
    "import numpy as np"
   ]
  },
  {
   "cell_type": "code",
   "execution_count": 25,
   "metadata": {
    "ExecuteTime": {
     "end_time": "2019-11-07T16:41:56.736755Z",
     "start_time": "2019-11-07T16:41:49.911290Z"
    }
   },
   "outputs": [
    {
     "name": "stderr",
     "output_type": "stream",
     "text": [
      "/home/CSCScience.ca/pkruczkiewicz/miniconda3/lib/python3.7/site-packages/numpy/core/fromnumeric.py:61: FutureWarning: \n",
      "The current behaviour of 'Series.argmax' is deprecated, use 'idxmax'\n",
      "instead.\n",
      "The behavior of 'argmax' will be corrected to return the positional\n",
      "maximum in the future. For now, use 'series.values.argmax' or\n",
      "'np.argmax(np.array(values))' to get the position of the maximum\n",
      "row.\n",
      "  return bound(*args, **kwds)\n"
     ]
    }
   ],
   "source": [
    "bh_majority_call = df_68k['biohansel_A biohansel_C biohansel_G biohansel_T'.split()].apply(np.argmax, axis=1)"
   ]
  },
  {
   "cell_type": "code",
   "execution_count": 26,
   "metadata": {
    "ExecuteTime": {
     "end_time": "2019-11-07T16:41:56.840394Z",
     "start_time": "2019-11-07T16:41:56.741899Z"
    }
   },
   "outputs": [],
   "source": [
    "df_68k['biohansel_majority_call'] = bh_majority_call.str.replace(r'biohansel_', '')"
   ]
  },
  {
   "cell_type": "code",
   "execution_count": 27,
   "metadata": {
    "ExecuteTime": {
     "end_time": "2019-11-07T16:41:56.862845Z",
     "start_time": "2019-11-07T16:41:56.843454Z"
    }
   },
   "outputs": [
    {
     "data": {
      "text/plain": [
       "67965"
      ]
     },
     "execution_count": 27,
     "metadata": {},
     "output_type": "execute_result"
    }
   ],
   "source": [
    "(df_68k.biohansel_majority_call == df_68k.snippy_call).sum()"
   ]
  },
  {
   "cell_type": "code",
   "execution_count": 28,
   "metadata": {
    "ExecuteTime": {
     "end_time": "2019-11-07T16:41:56.884340Z",
     "start_time": "2019-11-07T16:41:56.866354Z"
    }
   },
   "outputs": [
    {
     "data": {
      "text/plain": [
       "35"
      ]
     },
     "execution_count": 28,
     "metadata": {},
     "output_type": "execute_result"
    }
   ],
   "source": [
    "(df_68k.biohansel_majority_call != df_68k.snippy_call).sum()"
   ]
  },
  {
   "cell_type": "code",
   "execution_count": 29,
   "metadata": {
    "ExecuteTime": {
     "end_time": "2019-11-07T16:42:03.039635Z",
     "start_time": "2019-11-07T16:41:56.887232Z"
    }
   },
   "outputs": [],
   "source": [
    "snippy_majority_call = df_68k['snippy_A snippy_C snippy_G snippy_T'.split()].apply(np.argmax, axis=1)"
   ]
  },
  {
   "cell_type": "code",
   "execution_count": 30,
   "metadata": {
    "ExecuteTime": {
     "end_time": "2019-11-07T16:42:03.139523Z",
     "start_time": "2019-11-07T16:42:03.047203Z"
    }
   },
   "outputs": [],
   "source": [
    "df_68k['snippy_majority_call'] = snippy_majority_call.str.replace(r'snippy_', '')"
   ]
  },
  {
   "cell_type": "code",
   "execution_count": 31,
   "metadata": {
    "ExecuteTime": {
     "end_time": "2019-11-07T16:42:03.156626Z",
     "start_time": "2019-11-07T16:42:03.142078Z"
    }
   },
   "outputs": [],
   "source": [
    "both_non_null = ~(pd.isnull(df_68k.biohansel_majority_call) | pd.isnull(df_68k.snippy_call))"
   ]
  },
  {
   "cell_type": "code",
   "execution_count": 32,
   "metadata": {
    "ExecuteTime": {
     "end_time": "2019-11-07T16:42:03.166690Z",
     "start_time": "2019-11-07T16:42:03.159745Z"
    }
   },
   "outputs": [
    {
     "data": {
      "text/plain": [
       "67968"
      ]
     },
     "execution_count": 32,
     "metadata": {},
     "output_type": "execute_result"
    }
   ],
   "source": [
    "both_non_null.sum()"
   ]
  },
  {
   "cell_type": "code",
   "execution_count": 33,
   "metadata": {
    "ExecuteTime": {
     "end_time": "2019-11-07T16:42:03.191675Z",
     "start_time": "2019-11-07T16:42:03.169739Z"
    }
   },
   "outputs": [
    {
     "data": {
      "text/plain": [
       "3"
      ]
     },
     "execution_count": 33,
     "metadata": {},
     "output_type": "execute_result"
    }
   ],
   "source": [
    "(df_68k.biohansel_majority_call[both_non_null] != df_68k.snippy_call[both_non_null]).sum()"
   ]
  },
  {
   "cell_type": "code",
   "execution_count": 34,
   "metadata": {
    "ExecuteTime": {
     "end_time": "2019-11-07T16:42:03.213419Z",
     "start_time": "2019-11-07T16:42:03.194508Z"
    }
   },
   "outputs": [
    {
     "data": {
      "text/plain": [
       "0"
      ]
     },
     "execution_count": 34,
     "metadata": {},
     "output_type": "execute_result"
    }
   ],
   "source": [
    "(df_68k.biohansel_majority_call[both_non_null] != df_68k.snippy_majority_call[both_non_null]).sum()"
   ]
  },
  {
   "cell_type": "markdown",
   "metadata": {},
   "source": [
    "## Merge Enterobase Sequencing Info\n",
    "\n",
    "- Searched Enterobase for 1000 Typhi genomes by accession\n",
    "- Output table of genome information\n",
    "- Pulled accession, insert size, number of bases and average read length from column named `Data Source(Accession No.;Sequencing Platform;Sequencing Library;Insert Size;Experiment;Bases;Average Length;Status)` into a separate table\n",
    "- Read seq info table tab-delimited file into DF\n",
    "- Merged seq info DF into Snippy/BioHansel results DF"
   ]
  },
  {
   "cell_type": "code",
   "execution_count": 35,
   "metadata": {
    "ExecuteTime": {
     "end_time": "2019-11-07T16:42:03.229670Z",
     "start_time": "2019-11-07T16:42:03.216616Z"
    }
   },
   "outputs": [],
   "source": [
    "df_seq_platform_info = pd.read_table('typhi-1000-enterobase-seq-platform-info-S2.tsv')"
   ]
  },
  {
   "cell_type": "code",
   "execution_count": 36,
   "metadata": {
    "ExecuteTime": {
     "end_time": "2019-11-07T16:42:03.322731Z",
     "start_time": "2019-11-07T16:42:03.233158Z"
    }
   },
   "outputs": [],
   "source": [
    "df_68k_seqinfo = pd.merge(df_seq_platform_info, df_68k, on='genome', how='right')"
   ]
  },
  {
   "cell_type": "code",
   "execution_count": 37,
   "metadata": {
    "ExecuteTime": {
     "end_time": "2019-11-07T16:42:03.339461Z",
     "start_time": "2019-11-07T16:42:03.325699Z"
    }
   },
   "outputs": [
    {
     "data": {
      "text/plain": [
       "count    67252.000000\n",
       "mean       108.430738\n",
       "std         13.880588\n",
       "min         96.000000\n",
       "25%        100.000000\n",
       "50%        100.000000\n",
       "75%        125.000000\n",
       "max        250.000000\n",
       "Name: read_length, dtype: float64"
      ]
     },
     "execution_count": 37,
     "metadata": {},
     "output_type": "execute_result"
    }
   ],
   "source": [
    "df_68k_seqinfo.read_length.describe()"
   ]
  },
  {
   "cell_type": "code",
   "execution_count": 38,
   "metadata": {
    "ExecuteTime": {
     "end_time": "2019-11-07T16:42:03.345741Z",
     "start_time": "2019-11-07T16:42:03.341673Z"
    }
   },
   "outputs": [],
   "source": [
    "df_68k_seqinfo.snippy_depth.fillna(0, inplace=True)"
   ]
  },
  {
   "cell_type": "code",
   "execution_count": 39,
   "metadata": {
    "ExecuteTime": {
     "end_time": "2019-11-07T16:42:03.351927Z",
     "start_time": "2019-11-07T16:42:03.347883Z"
    }
   },
   "outputs": [],
   "source": [
    "df_68k_seqinfo.biohansel_depth.fillna(0, inplace=True)"
   ]
  },
  {
   "cell_type": "markdown",
   "metadata": {},
   "source": [
    "## Fill in null values for missing results\n",
    "\n",
    "- Where `(snippy|biohansel)_(A|C|G|T)` is null/NaN, replace with 0.\n",
    "- Where `(snippy|biohansel)_depth` is null/NaN, replace with 0."
   ]
  },
  {
   "cell_type": "code",
   "execution_count": 40,
   "metadata": {
    "ExecuteTime": {
     "end_time": "2019-11-07T16:42:03.362834Z",
     "start_time": "2019-11-07T16:42:03.354214Z"
    }
   },
   "outputs": [],
   "source": [
    "for x in ['snippy', 'biohansel']:\n",
    "    for y in list('ACGT'):\n",
    "        df_68k_seqinfo[f'{x}_{y}'].fillna(0, inplace=True)"
   ]
  },
  {
   "cell_type": "code",
   "execution_count": 41,
   "metadata": {
    "ExecuteTime": {
     "end_time": "2019-11-07T16:42:03.369681Z",
     "start_time": "2019-11-07T16:42:03.365020Z"
    }
   },
   "outputs": [],
   "source": [
    "for x in ['snippy', 'biohansel']:\n",
    "    df_68k_seqinfo[f'{x}_depth'].fillna(0, inplace=True)"
   ]
  },
  {
   "cell_type": "markdown",
   "metadata": {},
   "source": [
    "## Add columns for number of Snippy and BioHansel calls at 3X, 6X, 8X"
   ]
  },
  {
   "cell_type": "code",
   "execution_count": 42,
   "metadata": {
    "ExecuteTime": {
     "end_time": "2019-11-07T16:42:03.442454Z",
     "start_time": "2019-11-07T16:42:03.371888Z"
    }
   },
   "outputs": [
    {
     "name": "stdout",
     "output_type": "stream",
     "text": [
      "3 snippy\n",
      "3 biohansel\n",
      "6 snippy\n",
      "6 biohansel\n",
      "8 snippy\n",
      "8 biohansel\n"
     ]
    }
   ],
   "source": [
    "for t in [3, 6, 8]:\n",
    "    for x in ['snippy', 'biohansel']:\n",
    "        cols = [f'{x}_{y}' for y in list('ACGT')]\n",
    "        gte_t = (df_68k_seqinfo[cols] >= t).sum(axis=1)\n",
    "        df_68k_seqinfo[f'{x}_bases_gte_{t}X'] = gte_t\n",
    "        print(t, x)"
   ]
  },
  {
   "cell_type": "code",
   "execution_count": 43,
   "metadata": {
    "ExecuteTime": {
     "end_time": "2019-11-07T16:42:03.450107Z",
     "start_time": "2019-11-07T16:42:03.444689Z"
    }
   },
   "outputs": [
    {
     "data": {
      "text/plain": [
       "92"
      ]
     },
     "execution_count": 43,
     "metadata": {},
     "output_type": "execute_result"
    }
   ],
   "source": [
    "(df_68k_seqinfo.snippy_bases_gte_3X > 1).sum()"
   ]
  },
  {
   "cell_type": "code",
   "execution_count": 44,
   "metadata": {
    "ExecuteTime": {
     "end_time": "2019-11-07T16:42:03.457573Z",
     "start_time": "2019-11-07T16:42:03.452189Z"
    }
   },
   "outputs": [
    {
     "data": {
      "text/plain": [
       "22"
      ]
     },
     "execution_count": 44,
     "metadata": {},
     "output_type": "execute_result"
    }
   ],
   "source": [
    "(df_68k_seqinfo.snippy_bases_gte_3X == 0).sum()"
   ]
  },
  {
   "cell_type": "code",
   "execution_count": 45,
   "metadata": {
    "ExecuteTime": {
     "end_time": "2019-11-07T16:42:03.464621Z",
     "start_time": "2019-11-07T16:42:03.459418Z"
    }
   },
   "outputs": [
    {
     "data": {
      "text/plain": [
       "19"
      ]
     },
     "execution_count": 45,
     "metadata": {},
     "output_type": "execute_result"
    }
   ],
   "source": [
    "(df_68k_seqinfo.snippy_bases_gte_6X > 1).sum()"
   ]
  },
  {
   "cell_type": "code",
   "execution_count": 46,
   "metadata": {
    "ExecuteTime": {
     "end_time": "2019-11-07T16:42:03.472375Z",
     "start_time": "2019-11-07T16:42:03.466576Z"
    }
   },
   "outputs": [
    {
     "data": {
      "text/plain": [
       "23"
      ]
     },
     "execution_count": 46,
     "metadata": {},
     "output_type": "execute_result"
    }
   ],
   "source": [
    "(df_68k_seqinfo.snippy_bases_gte_6X == 0).sum()"
   ]
  },
  {
   "cell_type": "code",
   "execution_count": 47,
   "metadata": {
    "ExecuteTime": {
     "end_time": "2019-11-07T16:42:03.480110Z",
     "start_time": "2019-11-07T16:42:03.474326Z"
    }
   },
   "outputs": [
    {
     "data": {
      "text/plain": [
       "4"
      ]
     },
     "execution_count": 47,
     "metadata": {},
     "output_type": "execute_result"
    }
   ],
   "source": [
    "(df_68k_seqinfo.snippy_bases_gte_8X > 1).sum()"
   ]
  },
  {
   "cell_type": "code",
   "execution_count": 48,
   "metadata": {
    "ExecuteTime": {
     "end_time": "2019-11-07T16:42:03.487697Z",
     "start_time": "2019-11-07T16:42:03.482355Z"
    }
   },
   "outputs": [
    {
     "data": {
      "text/plain": [
       "24"
      ]
     },
     "execution_count": 48,
     "metadata": {},
     "output_type": "execute_result"
    }
   ],
   "source": [
    "(df_68k_seqinfo.snippy_bases_gte_8X == 0).sum()"
   ]
  },
  {
   "cell_type": "code",
   "execution_count": 49,
   "metadata": {
    "ExecuteTime": {
     "end_time": "2019-11-07T16:42:03.494656Z",
     "start_time": "2019-11-07T16:42:03.489758Z"
    }
   },
   "outputs": [
    {
     "data": {
      "text/plain": [
       "(68000, 26)"
      ]
     },
     "execution_count": 49,
     "metadata": {},
     "output_type": "execute_result"
    }
   ],
   "source": [
    "df_68k_seqinfo.shape"
   ]
  },
  {
   "cell_type": "markdown",
   "metadata": {},
   "source": [
    "## BioHansel and Snippy null and mixed result counts"
   ]
  },
  {
   "cell_type": "code",
   "execution_count": 50,
   "metadata": {
    "ExecuteTime": {
     "end_time": "2019-11-07T16:42:03.529431Z",
     "start_time": "2019-11-07T16:42:03.496578Z"
    }
   },
   "outputs": [],
   "source": [
    "d = {'both_null': {},\n",
    "     'both_mixed': {}}\n",
    "for x in ['snippy', 'biohansel']:\n",
    "    tmp_null = {}\n",
    "    tmp_mixed = {}\n",
    "    d[f'{x}_null'] = tmp_null\n",
    "    d[f'{x}_mixed'] = tmp_mixed\n",
    "    for t in [3, 6, 8]:\n",
    "        tmp_null[t] = (df_68k_seqinfo[f'{x}_bases_gte_{t}X'] == 0).sum()\n",
    "        tmp_mixed[t] = (df_68k_seqinfo[f'{x}_bases_gte_{t}X'] > 1).sum()\n",
    "        d['both_null'][t] = ((df_68k_seqinfo[f'snippy_bases_gte_{t}X'] == 0) & (df_68k_seqinfo[f'biohansel_bases_gte_{t}X'] == 0)).sum()\n",
    "        d['both_mixed'][t] = ((df_68k_seqinfo[f'snippy_bases_gte_{t}X']>1) & (df_68k_seqinfo[f'biohansel_bases_gte_{t}X'] > 1)).sum()"
   ]
  },
  {
   "cell_type": "code",
   "execution_count": 51,
   "metadata": {
    "ExecuteTime": {
     "end_time": "2019-11-07T16:42:03.542767Z",
     "start_time": "2019-11-07T16:42:03.531743Z"
    }
   },
   "outputs": [
    {
     "data": {
      "text/html": [
       "<div>\n",
       "<style scoped>\n",
       "    .dataframe tbody tr th:only-of-type {\n",
       "        vertical-align: middle;\n",
       "    }\n",
       "\n",
       "    .dataframe tbody tr th {\n",
       "        vertical-align: top;\n",
       "    }\n",
       "\n",
       "    .dataframe thead th {\n",
       "        text-align: right;\n",
       "    }\n",
       "</style>\n",
       "<table border=\"1\" class=\"dataframe\">\n",
       "  <thead>\n",
       "    <tr style=\"text-align: right;\">\n",
       "      <th></th>\n",
       "      <th>both_null</th>\n",
       "      <th>both_mixed</th>\n",
       "      <th>snippy_null</th>\n",
       "      <th>snippy_mixed</th>\n",
       "      <th>biohansel_null</th>\n",
       "      <th>biohansel_mixed</th>\n",
       "    </tr>\n",
       "  </thead>\n",
       "  <tbody>\n",
       "    <tr>\n",
       "      <td>3</td>\n",
       "      <td>22</td>\n",
       "      <td>43</td>\n",
       "      <td>22</td>\n",
       "      <td>92</td>\n",
       "      <td>32</td>\n",
       "      <td>72</td>\n",
       "    </tr>\n",
       "    <tr>\n",
       "      <td>6</td>\n",
       "      <td>23</td>\n",
       "      <td>5</td>\n",
       "      <td>23</td>\n",
       "      <td>19</td>\n",
       "      <td>34</td>\n",
       "      <td>5</td>\n",
       "    </tr>\n",
       "    <tr>\n",
       "      <td>8</td>\n",
       "      <td>24</td>\n",
       "      <td>0</td>\n",
       "      <td>24</td>\n",
       "      <td>4</td>\n",
       "      <td>35</td>\n",
       "      <td>0</td>\n",
       "    </tr>\n",
       "  </tbody>\n",
       "</table>\n",
       "</div>"
      ],
      "text/plain": [
       "   both_null  both_mixed  snippy_null  snippy_mixed  biohansel_null  \\\n",
       "3         22          43           22            92              32   \n",
       "6         23           5           23            19              34   \n",
       "8         24           0           24             4              35   \n",
       "\n",
       "   biohansel_mixed  \n",
       "3               72  \n",
       "6                5  \n",
       "8                0  "
      ]
     },
     "execution_count": 51,
     "metadata": {},
     "output_type": "execute_result"
    }
   ],
   "source": [
    "pd.DataFrame(d)"
   ]
  },
  {
   "cell_type": "markdown",
   "metadata": {},
   "source": [
    "Filter for results with no Snippy coverage"
   ]
  },
  {
   "cell_type": "code",
   "execution_count": 52,
   "metadata": {
    "ExecuteTime": {
     "end_time": "2019-11-07T16:42:03.588364Z",
     "start_time": "2019-11-07T16:42:03.544751Z"
    }
   },
   "outputs": [
    {
     "data": {
      "text/html": [
       "<div>\n",
       "<style scoped>\n",
       "    .dataframe tbody tr th:only-of-type {\n",
       "        vertical-align: middle;\n",
       "    }\n",
       "\n",
       "    .dataframe tbody tr th {\n",
       "        vertical-align: top;\n",
       "    }\n",
       "\n",
       "    .dataframe thead th {\n",
       "        text-align: right;\n",
       "    }\n",
       "</style>\n",
       "<table border=\"1\" class=\"dataframe\">\n",
       "  <thead>\n",
       "    <tr style=\"text-align: right;\">\n",
       "      <th></th>\n",
       "      <th>genome</th>\n",
       "      <th>insert_size</th>\n",
       "      <th>run_accession</th>\n",
       "      <th>bases</th>\n",
       "      <th>read_length</th>\n",
       "      <th>position</th>\n",
       "      <th>biohansel_A</th>\n",
       "      <th>biohansel_C</th>\n",
       "      <th>biohansel_G</th>\n",
       "      <th>biohansel_T</th>\n",
       "      <th>...</th>\n",
       "      <th>snippy_depth</th>\n",
       "      <th>scheme</th>\n",
       "      <th>biohansel_majority_call</th>\n",
       "      <th>snippy_majority_call</th>\n",
       "      <th>snippy_bases_gte_3X</th>\n",
       "      <th>biohansel_bases_gte_3X</th>\n",
       "      <th>snippy_bases_gte_6X</th>\n",
       "      <th>biohansel_bases_gte_6X</th>\n",
       "      <th>snippy_bases_gte_8X</th>\n",
       "      <th>biohansel_bases_gte_8X</th>\n",
       "    </tr>\n",
       "  </thead>\n",
       "  <tbody>\n",
       "    <tr>\n",
       "      <td>8860</td>\n",
       "      <td>ERR460327</td>\n",
       "      <td>227</td>\n",
       "      <td>ERX426668</td>\n",
       "      <td>423108576.0</td>\n",
       "      <td>99.0</td>\n",
       "      <td>1780318</td>\n",
       "      <td>0.0</td>\n",
       "      <td>0.0</td>\n",
       "      <td>0.0</td>\n",
       "      <td>0.0</td>\n",
       "      <td>...</td>\n",
       "      <td>0.0</td>\n",
       "      <td>NaN</td>\n",
       "      <td>NaN</td>\n",
       "      <td>NaN</td>\n",
       "      <td>0</td>\n",
       "      <td>0</td>\n",
       "      <td>0</td>\n",
       "      <td>0</td>\n",
       "      <td>0</td>\n",
       "      <td>0</td>\n",
       "    </tr>\n",
       "    <tr>\n",
       "      <td>9676</td>\n",
       "      <td>ERR460349</td>\n",
       "      <td>227</td>\n",
       "      <td>ERX426690</td>\n",
       "      <td>515525670.0</td>\n",
       "      <td>99.0</td>\n",
       "      <td>1780318</td>\n",
       "      <td>0.0</td>\n",
       "      <td>0.0</td>\n",
       "      <td>0.0</td>\n",
       "      <td>0.0</td>\n",
       "      <td>...</td>\n",
       "      <td>0.0</td>\n",
       "      <td>NaN</td>\n",
       "      <td>NaN</td>\n",
       "      <td>NaN</td>\n",
       "      <td>0</td>\n",
       "      <td>0</td>\n",
       "      <td>0</td>\n",
       "      <td>0</td>\n",
       "      <td>0</td>\n",
       "      <td>0</td>\n",
       "    </tr>\n",
       "    <tr>\n",
       "      <td>12056</td>\n",
       "      <td>ERR460335</td>\n",
       "      <td>227</td>\n",
       "      <td>ERX426676</td>\n",
       "      <td>485333640.0</td>\n",
       "      <td>99.0</td>\n",
       "      <td>1780318</td>\n",
       "      <td>0.0</td>\n",
       "      <td>0.0</td>\n",
       "      <td>0.0</td>\n",
       "      <td>0.0</td>\n",
       "      <td>...</td>\n",
       "      <td>0.0</td>\n",
       "      <td>NaN</td>\n",
       "      <td>NaN</td>\n",
       "      <td>NaN</td>\n",
       "      <td>0</td>\n",
       "      <td>0</td>\n",
       "      <td>0</td>\n",
       "      <td>0</td>\n",
       "      <td>0</td>\n",
       "      <td>0</td>\n",
       "    </tr>\n",
       "    <tr>\n",
       "      <td>16180</td>\n",
       "      <td>ERR360426</td>\n",
       "      <td>203</td>\n",
       "      <td>ERX333197</td>\n",
       "      <td>291851800.0</td>\n",
       "      <td>100.0</td>\n",
       "      <td>4355242</td>\n",
       "      <td>0.0</td>\n",
       "      <td>0.0</td>\n",
       "      <td>0.0</td>\n",
       "      <td>0.0</td>\n",
       "      <td>...</td>\n",
       "      <td>0.0</td>\n",
       "      <td>NaN</td>\n",
       "      <td>NaN</td>\n",
       "      <td>NaN</td>\n",
       "      <td>0</td>\n",
       "      <td>0</td>\n",
       "      <td>0</td>\n",
       "      <td>0</td>\n",
       "      <td>0</td>\n",
       "      <td>0</td>\n",
       "    </tr>\n",
       "    <tr>\n",
       "      <td>18357</td>\n",
       "      <td>ERR360489</td>\n",
       "      <td>201</td>\n",
       "      <td>ERX333260</td>\n",
       "      <td>243621400.0</td>\n",
       "      <td>100.0</td>\n",
       "      <td>4388608</td>\n",
       "      <td>0.0</td>\n",
       "      <td>0.0</td>\n",
       "      <td>0.0</td>\n",
       "      <td>0.0</td>\n",
       "      <td>...</td>\n",
       "      <td>0.0</td>\n",
       "      <td>NaN</td>\n",
       "      <td>NaN</td>\n",
       "      <td>NaN</td>\n",
       "      <td>0</td>\n",
       "      <td>0</td>\n",
       "      <td>0</td>\n",
       "      <td>0</td>\n",
       "      <td>0</td>\n",
       "      <td>0</td>\n",
       "    </tr>\n",
       "    <tr>\n",
       "      <td>43070</td>\n",
       "      <td>ERR279352</td>\n",
       "      <td>215</td>\n",
       "      <td>ERX252685</td>\n",
       "      <td>654736200.0</td>\n",
       "      <td>100.0</td>\n",
       "      <td>1934710</td>\n",
       "      <td>0.0</td>\n",
       "      <td>0.0</td>\n",
       "      <td>0.0</td>\n",
       "      <td>0.0</td>\n",
       "      <td>...</td>\n",
       "      <td>0.0</td>\n",
       "      <td>NaN</td>\n",
       "      <td>NaN</td>\n",
       "      <td>NaN</td>\n",
       "      <td>0</td>\n",
       "      <td>0</td>\n",
       "      <td>0</td>\n",
       "      <td>0</td>\n",
       "      <td>0</td>\n",
       "      <td>0</td>\n",
       "    </tr>\n",
       "    <tr>\n",
       "      <td>49660</td>\n",
       "      <td>ERR1764817</td>\n",
       "      <td>450</td>\n",
       "      <td>ERX1830386</td>\n",
       "      <td>317295250.0</td>\n",
       "      <td>125.0</td>\n",
       "      <td>1780318</td>\n",
       "      <td>0.0</td>\n",
       "      <td>0.0</td>\n",
       "      <td>0.0</td>\n",
       "      <td>0.0</td>\n",
       "      <td>...</td>\n",
       "      <td>0.0</td>\n",
       "      <td>NaN</td>\n",
       "      <td>NaN</td>\n",
       "      <td>NaN</td>\n",
       "      <td>0</td>\n",
       "      <td>0</td>\n",
       "      <td>0</td>\n",
       "      <td>0</td>\n",
       "      <td>0</td>\n",
       "      <td>0</td>\n",
       "    </tr>\n",
       "    <tr>\n",
       "      <td>49728</td>\n",
       "      <td>ERR1764815</td>\n",
       "      <td>450</td>\n",
       "      <td>ERX1830384</td>\n",
       "      <td>311245000.0</td>\n",
       "      <td>125.0</td>\n",
       "      <td>1780318</td>\n",
       "      <td>0.0</td>\n",
       "      <td>0.0</td>\n",
       "      <td>0.0</td>\n",
       "      <td>0.0</td>\n",
       "      <td>...</td>\n",
       "      <td>0.0</td>\n",
       "      <td>NaN</td>\n",
       "      <td>NaN</td>\n",
       "      <td>NaN</td>\n",
       "      <td>0</td>\n",
       "      <td>0</td>\n",
       "      <td>0</td>\n",
       "      <td>0</td>\n",
       "      <td>0</td>\n",
       "      <td>0</td>\n",
       "    </tr>\n",
       "    <tr>\n",
       "      <td>49864</td>\n",
       "      <td>ERR1764811</td>\n",
       "      <td>450</td>\n",
       "      <td>ERX1830380</td>\n",
       "      <td>325828000.0</td>\n",
       "      <td>125.0</td>\n",
       "      <td>1780318</td>\n",
       "      <td>0.0</td>\n",
       "      <td>0.0</td>\n",
       "      <td>0.0</td>\n",
       "      <td>0.0</td>\n",
       "      <td>...</td>\n",
       "      <td>0.0</td>\n",
       "      <td>NaN</td>\n",
       "      <td>NaN</td>\n",
       "      <td>NaN</td>\n",
       "      <td>0</td>\n",
       "      <td>0</td>\n",
       "      <td>0</td>\n",
       "      <td>0</td>\n",
       "      <td>0</td>\n",
       "      <td>0</td>\n",
       "    </tr>\n",
       "    <tr>\n",
       "      <td>50612</td>\n",
       "      <td>ERR1764792</td>\n",
       "      <td>450</td>\n",
       "      <td>ERX1830361</td>\n",
       "      <td>336335000.0</td>\n",
       "      <td>125.0</td>\n",
       "      <td>1780318</td>\n",
       "      <td>0.0</td>\n",
       "      <td>0.0</td>\n",
       "      <td>0.0</td>\n",
       "      <td>0.0</td>\n",
       "      <td>...</td>\n",
       "      <td>0.0</td>\n",
       "      <td>NaN</td>\n",
       "      <td>NaN</td>\n",
       "      <td>NaN</td>\n",
       "      <td>0</td>\n",
       "      <td>0</td>\n",
       "      <td>0</td>\n",
       "      <td>0</td>\n",
       "      <td>0</td>\n",
       "      <td>0</td>\n",
       "    </tr>\n",
       "    <tr>\n",
       "      <td>50884</td>\n",
       "      <td>ERR1764788</td>\n",
       "      <td>450</td>\n",
       "      <td>ERX1830357</td>\n",
       "      <td>312858000.0</td>\n",
       "      <td>125.0</td>\n",
       "      <td>1780318</td>\n",
       "      <td>0.0</td>\n",
       "      <td>0.0</td>\n",
       "      <td>0.0</td>\n",
       "      <td>0.0</td>\n",
       "      <td>...</td>\n",
       "      <td>0.0</td>\n",
       "      <td>NaN</td>\n",
       "      <td>NaN</td>\n",
       "      <td>NaN</td>\n",
       "      <td>0</td>\n",
       "      <td>0</td>\n",
       "      <td>0</td>\n",
       "      <td>0</td>\n",
       "      <td>0</td>\n",
       "      <td>0</td>\n",
       "    </tr>\n",
       "    <tr>\n",
       "      <td>52173</td>\n",
       "      <td>ERR1764762</td>\n",
       "      <td>450</td>\n",
       "      <td>ERX1830331</td>\n",
       "      <td>375690000.0</td>\n",
       "      <td>125.0</td>\n",
       "      <td>1535364</td>\n",
       "      <td>0.0</td>\n",
       "      <td>0.0</td>\n",
       "      <td>0.0</td>\n",
       "      <td>0.0</td>\n",
       "      <td>...</td>\n",
       "      <td>0.0</td>\n",
       "      <td>NaN</td>\n",
       "      <td>NaN</td>\n",
       "      <td>NaN</td>\n",
       "      <td>0</td>\n",
       "      <td>0</td>\n",
       "      <td>0</td>\n",
       "      <td>0</td>\n",
       "      <td>0</td>\n",
       "      <td>0</td>\n",
       "    </tr>\n",
       "    <tr>\n",
       "      <td>52176</td>\n",
       "      <td>ERR1764762</td>\n",
       "      <td>450</td>\n",
       "      <td>ERX1830331</td>\n",
       "      <td>375690000.0</td>\n",
       "      <td>125.0</td>\n",
       "      <td>1780318</td>\n",
       "      <td>0.0</td>\n",
       "      <td>0.0</td>\n",
       "      <td>0.0</td>\n",
       "      <td>0.0</td>\n",
       "      <td>...</td>\n",
       "      <td>0.0</td>\n",
       "      <td>NaN</td>\n",
       "      <td>NaN</td>\n",
       "      <td>NaN</td>\n",
       "      <td>0</td>\n",
       "      <td>0</td>\n",
       "      <td>0</td>\n",
       "      <td>0</td>\n",
       "      <td>0</td>\n",
       "      <td>0</td>\n",
       "    </tr>\n",
       "    <tr>\n",
       "      <td>52312</td>\n",
       "      <td>ERR1764760</td>\n",
       "      <td>450</td>\n",
       "      <td>ERX1830329</td>\n",
       "      <td>278599250.0</td>\n",
       "      <td>125.0</td>\n",
       "      <td>1780318</td>\n",
       "      <td>0.0</td>\n",
       "      <td>0.0</td>\n",
       "      <td>0.0</td>\n",
       "      <td>0.0</td>\n",
       "      <td>...</td>\n",
       "      <td>0.0</td>\n",
       "      <td>NaN</td>\n",
       "      <td>NaN</td>\n",
       "      <td>NaN</td>\n",
       "      <td>0</td>\n",
       "      <td>0</td>\n",
       "      <td>0</td>\n",
       "      <td>0</td>\n",
       "      <td>0</td>\n",
       "      <td>0</td>\n",
       "    </tr>\n",
       "    <tr>\n",
       "      <td>53332</td>\n",
       "      <td>ERR1764739</td>\n",
       "      <td>450</td>\n",
       "      <td>ERX1830308</td>\n",
       "      <td>402759250.0</td>\n",
       "      <td>125.0</td>\n",
       "      <td>1780318</td>\n",
       "      <td>0.0</td>\n",
       "      <td>0.0</td>\n",
       "      <td>0.0</td>\n",
       "      <td>0.0</td>\n",
       "      <td>...</td>\n",
       "      <td>0.0</td>\n",
       "      <td>NaN</td>\n",
       "      <td>NaN</td>\n",
       "      <td>NaN</td>\n",
       "      <td>0</td>\n",
       "      <td>0</td>\n",
       "      <td>0</td>\n",
       "      <td>0</td>\n",
       "      <td>0</td>\n",
       "      <td>0</td>\n",
       "    </tr>\n",
       "    <tr>\n",
       "      <td>53737</td>\n",
       "      <td>ERR1764730</td>\n",
       "      <td>450</td>\n",
       "      <td>ERX1830299</td>\n",
       "      <td>332127250.0</td>\n",
       "      <td>125.0</td>\n",
       "      <td>1535364</td>\n",
       "      <td>0.0</td>\n",
       "      <td>0.0</td>\n",
       "      <td>0.0</td>\n",
       "      <td>0.0</td>\n",
       "      <td>...</td>\n",
       "      <td>0.0</td>\n",
       "      <td>NaN</td>\n",
       "      <td>NaN</td>\n",
       "      <td>NaN</td>\n",
       "      <td>0</td>\n",
       "      <td>0</td>\n",
       "      <td>0</td>\n",
       "      <td>0</td>\n",
       "      <td>0</td>\n",
       "      <td>0</td>\n",
       "    </tr>\n",
       "    <tr>\n",
       "      <td>54216</td>\n",
       "      <td>ERR1764721</td>\n",
       "      <td>450</td>\n",
       "      <td>ERX1830290</td>\n",
       "      <td>338077000.0</td>\n",
       "      <td>125.0</td>\n",
       "      <td>1780318</td>\n",
       "      <td>0.0</td>\n",
       "      <td>0.0</td>\n",
       "      <td>0.0</td>\n",
       "      <td>0.0</td>\n",
       "      <td>...</td>\n",
       "      <td>0.0</td>\n",
       "      <td>NaN</td>\n",
       "      <td>NaN</td>\n",
       "      <td>NaN</td>\n",
       "      <td>0</td>\n",
       "      <td>0</td>\n",
       "      <td>0</td>\n",
       "      <td>0</td>\n",
       "      <td>0</td>\n",
       "      <td>0</td>\n",
       "    </tr>\n",
       "    <tr>\n",
       "      <td>54828</td>\n",
       "      <td>ERR1764709</td>\n",
       "      <td>450</td>\n",
       "      <td>ERX1830278</td>\n",
       "      <td>376043500.0</td>\n",
       "      <td>125.0</td>\n",
       "      <td>1780318</td>\n",
       "      <td>0.0</td>\n",
       "      <td>0.0</td>\n",
       "      <td>0.0</td>\n",
       "      <td>0.0</td>\n",
       "      <td>...</td>\n",
       "      <td>0.0</td>\n",
       "      <td>NaN</td>\n",
       "      <td>NaN</td>\n",
       "      <td>NaN</td>\n",
       "      <td>0</td>\n",
       "      <td>0</td>\n",
       "      <td>0</td>\n",
       "      <td>0</td>\n",
       "      <td>0</td>\n",
       "      <td>0</td>\n",
       "    </tr>\n",
       "    <tr>\n",
       "      <td>55304</td>\n",
       "      <td>ERR1764702</td>\n",
       "      <td>450</td>\n",
       "      <td>ERX1830271</td>\n",
       "      <td>273692250.0</td>\n",
       "      <td>125.0</td>\n",
       "      <td>1780318</td>\n",
       "      <td>0.0</td>\n",
       "      <td>0.0</td>\n",
       "      <td>0.0</td>\n",
       "      <td>0.0</td>\n",
       "      <td>...</td>\n",
       "      <td>0.0</td>\n",
       "      <td>NaN</td>\n",
       "      <td>NaN</td>\n",
       "      <td>NaN</td>\n",
       "      <td>0</td>\n",
       "      <td>0</td>\n",
       "      <td>0</td>\n",
       "      <td>0</td>\n",
       "      <td>0</td>\n",
       "      <td>0</td>\n",
       "    </tr>\n",
       "    <tr>\n",
       "      <td>57412</td>\n",
       "      <td>ERR1764665</td>\n",
       "      <td>450</td>\n",
       "      <td>ERX1830234</td>\n",
       "      <td>326401250.0</td>\n",
       "      <td>125.0</td>\n",
       "      <td>1780318</td>\n",
       "      <td>0.0</td>\n",
       "      <td>0.0</td>\n",
       "      <td>0.0</td>\n",
       "      <td>0.0</td>\n",
       "      <td>...</td>\n",
       "      <td>0.0</td>\n",
       "      <td>NaN</td>\n",
       "      <td>NaN</td>\n",
       "      <td>NaN</td>\n",
       "      <td>0</td>\n",
       "      <td>0</td>\n",
       "      <td>0</td>\n",
       "      <td>0</td>\n",
       "      <td>0</td>\n",
       "      <td>0</td>\n",
       "    </tr>\n",
       "    <tr>\n",
       "      <td>62648</td>\n",
       "      <td>ERR1791798</td>\n",
       "      <td>450</td>\n",
       "      <td>ERX1855521</td>\n",
       "      <td>338830000.0</td>\n",
       "      <td>125.0</td>\n",
       "      <td>1780318</td>\n",
       "      <td>0.0</td>\n",
       "      <td>0.0</td>\n",
       "      <td>0.0</td>\n",
       "      <td>0.0</td>\n",
       "      <td>...</td>\n",
       "      <td>0.0</td>\n",
       "      <td>NaN</td>\n",
       "      <td>NaN</td>\n",
       "      <td>NaN</td>\n",
       "      <td>0</td>\n",
       "      <td>0</td>\n",
       "      <td>0</td>\n",
       "      <td>0</td>\n",
       "      <td>0</td>\n",
       "      <td>0</td>\n",
       "    </tr>\n",
       "    <tr>\n",
       "      <td>63736</td>\n",
       "      <td>ERR1791779</td>\n",
       "      <td>450</td>\n",
       "      <td>ERX1855502</td>\n",
       "      <td>343223000.0</td>\n",
       "      <td>125.0</td>\n",
       "      <td>1780318</td>\n",
       "      <td>0.0</td>\n",
       "      <td>0.0</td>\n",
       "      <td>0.0</td>\n",
       "      <td>0.0</td>\n",
       "      <td>...</td>\n",
       "      <td>0.0</td>\n",
       "      <td>NaN</td>\n",
       "      <td>NaN</td>\n",
       "      <td>NaN</td>\n",
       "      <td>0</td>\n",
       "      <td>0</td>\n",
       "      <td>0</td>\n",
       "      <td>0</td>\n",
       "      <td>0</td>\n",
       "      <td>0</td>\n",
       "    </tr>\n",
       "  </tbody>\n",
       "</table>\n",
       "<p>22 rows × 26 columns</p>\n",
       "</div>"
      ],
      "text/plain": [
       "           genome  insert_size run_accession        bases  read_length  \\\n",
       "8860    ERR460327          227     ERX426668  423108576.0         99.0   \n",
       "9676    ERR460349          227     ERX426690  515525670.0         99.0   \n",
       "12056   ERR460335          227     ERX426676  485333640.0         99.0   \n",
       "16180   ERR360426          203     ERX333197  291851800.0        100.0   \n",
       "18357   ERR360489          201     ERX333260  243621400.0        100.0   \n",
       "43070   ERR279352          215     ERX252685  654736200.0        100.0   \n",
       "49660  ERR1764817          450    ERX1830386  317295250.0        125.0   \n",
       "49728  ERR1764815          450    ERX1830384  311245000.0        125.0   \n",
       "49864  ERR1764811          450    ERX1830380  325828000.0        125.0   \n",
       "50612  ERR1764792          450    ERX1830361  336335000.0        125.0   \n",
       "50884  ERR1764788          450    ERX1830357  312858000.0        125.0   \n",
       "52173  ERR1764762          450    ERX1830331  375690000.0        125.0   \n",
       "52176  ERR1764762          450    ERX1830331  375690000.0        125.0   \n",
       "52312  ERR1764760          450    ERX1830329  278599250.0        125.0   \n",
       "53332  ERR1764739          450    ERX1830308  402759250.0        125.0   \n",
       "53737  ERR1764730          450    ERX1830299  332127250.0        125.0   \n",
       "54216  ERR1764721          450    ERX1830290  338077000.0        125.0   \n",
       "54828  ERR1764709          450    ERX1830278  376043500.0        125.0   \n",
       "55304  ERR1764702          450    ERX1830271  273692250.0        125.0   \n",
       "57412  ERR1764665          450    ERX1830234  326401250.0        125.0   \n",
       "62648  ERR1791798          450    ERX1855521  338830000.0        125.0   \n",
       "63736  ERR1791779          450    ERX1855502  343223000.0        125.0   \n",
       "\n",
       "       position  biohansel_A  biohansel_C  biohansel_G  biohansel_T  ...  \\\n",
       "8860    1780318          0.0          0.0          0.0          0.0  ...   \n",
       "9676    1780318          0.0          0.0          0.0          0.0  ...   \n",
       "12056   1780318          0.0          0.0          0.0          0.0  ...   \n",
       "16180   4355242          0.0          0.0          0.0          0.0  ...   \n",
       "18357   4388608          0.0          0.0          0.0          0.0  ...   \n",
       "43070   1934710          0.0          0.0          0.0          0.0  ...   \n",
       "49660   1780318          0.0          0.0          0.0          0.0  ...   \n",
       "49728   1780318          0.0          0.0          0.0          0.0  ...   \n",
       "49864   1780318          0.0          0.0          0.0          0.0  ...   \n",
       "50612   1780318          0.0          0.0          0.0          0.0  ...   \n",
       "50884   1780318          0.0          0.0          0.0          0.0  ...   \n",
       "52173   1535364          0.0          0.0          0.0          0.0  ...   \n",
       "52176   1780318          0.0          0.0          0.0          0.0  ...   \n",
       "52312   1780318          0.0          0.0          0.0          0.0  ...   \n",
       "53332   1780318          0.0          0.0          0.0          0.0  ...   \n",
       "53737   1535364          0.0          0.0          0.0          0.0  ...   \n",
       "54216   1780318          0.0          0.0          0.0          0.0  ...   \n",
       "54828   1780318          0.0          0.0          0.0          0.0  ...   \n",
       "55304   1780318          0.0          0.0          0.0          0.0  ...   \n",
       "57412   1780318          0.0          0.0          0.0          0.0  ...   \n",
       "62648   1780318          0.0          0.0          0.0          0.0  ...   \n",
       "63736   1780318          0.0          0.0          0.0          0.0  ...   \n",
       "\n",
       "       snippy_depth scheme  biohansel_majority_call  snippy_majority_call  \\\n",
       "8860            0.0    NaN                      NaN                   NaN   \n",
       "9676            0.0    NaN                      NaN                   NaN   \n",
       "12056           0.0    NaN                      NaN                   NaN   \n",
       "16180           0.0    NaN                      NaN                   NaN   \n",
       "18357           0.0    NaN                      NaN                   NaN   \n",
       "43070           0.0    NaN                      NaN                   NaN   \n",
       "49660           0.0    NaN                      NaN                   NaN   \n",
       "49728           0.0    NaN                      NaN                   NaN   \n",
       "49864           0.0    NaN                      NaN                   NaN   \n",
       "50612           0.0    NaN                      NaN                   NaN   \n",
       "50884           0.0    NaN                      NaN                   NaN   \n",
       "52173           0.0    NaN                      NaN                   NaN   \n",
       "52176           0.0    NaN                      NaN                   NaN   \n",
       "52312           0.0    NaN                      NaN                   NaN   \n",
       "53332           0.0    NaN                      NaN                   NaN   \n",
       "53737           0.0    NaN                      NaN                   NaN   \n",
       "54216           0.0    NaN                      NaN                   NaN   \n",
       "54828           0.0    NaN                      NaN                   NaN   \n",
       "55304           0.0    NaN                      NaN                   NaN   \n",
       "57412           0.0    NaN                      NaN                   NaN   \n",
       "62648           0.0    NaN                      NaN                   NaN   \n",
       "63736           0.0    NaN                      NaN                   NaN   \n",
       "\n",
       "       snippy_bases_gte_3X  biohansel_bases_gte_3X  snippy_bases_gte_6X  \\\n",
       "8860                     0                       0                    0   \n",
       "9676                     0                       0                    0   \n",
       "12056                    0                       0                    0   \n",
       "16180                    0                       0                    0   \n",
       "18357                    0                       0                    0   \n",
       "43070                    0                       0                    0   \n",
       "49660                    0                       0                    0   \n",
       "49728                    0                       0                    0   \n",
       "49864                    0                       0                    0   \n",
       "50612                    0                       0                    0   \n",
       "50884                    0                       0                    0   \n",
       "52173                    0                       0                    0   \n",
       "52176                    0                       0                    0   \n",
       "52312                    0                       0                    0   \n",
       "53332                    0                       0                    0   \n",
       "53737                    0                       0                    0   \n",
       "54216                    0                       0                    0   \n",
       "54828                    0                       0                    0   \n",
       "55304                    0                       0                    0   \n",
       "57412                    0                       0                    0   \n",
       "62648                    0                       0                    0   \n",
       "63736                    0                       0                    0   \n",
       "\n",
       "      biohansel_bases_gte_6X snippy_bases_gte_8X biohansel_bases_gte_8X  \n",
       "8860                       0                   0                      0  \n",
       "9676                       0                   0                      0  \n",
       "12056                      0                   0                      0  \n",
       "16180                      0                   0                      0  \n",
       "18357                      0                   0                      0  \n",
       "43070                      0                   0                      0  \n",
       "49660                      0                   0                      0  \n",
       "49728                      0                   0                      0  \n",
       "49864                      0                   0                      0  \n",
       "50612                      0                   0                      0  \n",
       "50884                      0                   0                      0  \n",
       "52173                      0                   0                      0  \n",
       "52176                      0                   0                      0  \n",
       "52312                      0                   0                      0  \n",
       "53332                      0                   0                      0  \n",
       "53737                      0                   0                      0  \n",
       "54216                      0                   0                      0  \n",
       "54828                      0                   0                      0  \n",
       "55304                      0                   0                      0  \n",
       "57412                      0                   0                      0  \n",
       "62648                      0                   0                      0  \n",
       "63736                      0                   0                      0  \n",
       "\n",
       "[22 rows x 26 columns]"
      ]
     },
     "execution_count": 52,
     "metadata": {},
     "output_type": "execute_result"
    }
   ],
   "source": [
    "df_68k_seqinfo[df_68k_seqinfo.snippy_depth == 0]"
   ]
  },
  {
   "cell_type": "markdown",
   "metadata": {},
   "source": [
    "## Format DF for output\n",
    "\n",
    "- rename columns\n",
    "- adjust position from 0-base to 1-base indexing"
   ]
  },
  {
   "cell_type": "code",
   "execution_count": 53,
   "metadata": {
    "ExecuteTime": {
     "end_time": "2019-11-07T16:42:03.595175Z",
     "start_time": "2019-11-07T16:42:03.590554Z"
    }
   },
   "outputs": [
    {
     "data": {
      "text/plain": [
       "Index(['genome', 'insert_size', 'run_accession', 'bases', 'read_length',\n",
       "       'position', 'biohansel_A', 'biohansel_C', 'biohansel_G', 'biohansel_T',\n",
       "       'biohansel_depth', 'snippy_call', 'snippy_A', 'snippy_C', 'snippy_G',\n",
       "       'snippy_T', 'snippy_depth', 'scheme', 'biohansel_majority_call',\n",
       "       'snippy_majority_call', 'snippy_bases_gte_3X', 'biohansel_bases_gte_3X',\n",
       "       'snippy_bases_gte_6X', 'biohansel_bases_gte_6X', 'snippy_bases_gte_8X',\n",
       "       'biohansel_bases_gte_8X'],\n",
       "      dtype='object')"
      ]
     },
     "execution_count": 53,
     "metadata": {},
     "output_type": "execute_result"
    }
   ],
   "source": [
    "df_68k_seqinfo.columns"
   ]
  },
  {
   "cell_type": "code",
   "execution_count": 54,
   "metadata": {
    "ExecuteTime": {
     "end_time": "2019-11-07T16:42:03.607957Z",
     "start_time": "2019-11-07T16:42:03.597150Z"
    }
   },
   "outputs": [],
   "source": [
    "df_68k_seqinfo.rename(\n",
    "    columns=dict(\n",
    "        biohansel_majority_call='biohansel_majority_base_before_QC',\n",
    "        snippy_call='snippy_consensus_sequence_call',\n",
    "        snippy_majority_call='snippy_majority_base_before_QC'\n",
    "    ), inplace=True)"
   ]
  },
  {
   "cell_type": "code",
   "execution_count": 55,
   "metadata": {
    "ExecuteTime": {
     "end_time": "2019-11-07T16:42:03.614175Z",
     "start_time": "2019-11-07T16:42:03.610163Z"
    }
   },
   "outputs": [],
   "source": [
    "df_68k_seqinfo.position = df_68k_seqinfo.position + 1"
   ]
  },
  {
   "cell_type": "markdown",
   "metadata": {},
   "source": [
    "Output DF to CSV file"
   ]
  },
  {
   "cell_type": "code",
   "execution_count": 56,
   "metadata": {
    "ExecuteTime": {
     "end_time": "2019-11-07T16:42:05.144707Z",
     "start_time": "2019-11-07T16:42:03.619105Z"
    }
   },
   "outputs": [],
   "source": [
    "df_68k_seqinfo.to_csv('bh-snippy-compare-1000genomes-S2-accessions.csv')"
   ]
  },
  {
   "cell_type": "markdown",
   "metadata": {},
   "source": [
    "## Pearson correlation between different values"
   ]
  },
  {
   "cell_type": "code",
   "execution_count": 57,
   "metadata": {
    "ExecuteTime": {
     "end_time": "2019-11-07T16:42:05.424660Z",
     "start_time": "2019-11-07T16:42:05.146912Z"
    }
   },
   "outputs": [],
   "source": [
    "from scipy.stats import pearsonr"
   ]
  },
  {
   "cell_type": "code",
   "execution_count": 58,
   "metadata": {
    "ExecuteTime": {
     "end_time": "2019-11-07T16:42:05.437261Z",
     "start_time": "2019-11-07T16:42:05.426873Z"
    }
   },
   "outputs": [
    {
     "data": {
      "text/plain": [
       "(0.9742715767083514, 0.0)"
      ]
     },
     "execution_count": 58,
     "metadata": {},
     "output_type": "execute_result"
    }
   ],
   "source": [
    "pearsonr(df_68k_seqinfo.biohansel_depth, df_68k_seqinfo.snippy_depth)"
   ]
  },
  {
   "cell_type": "markdown",
   "metadata": {},
   "source": [
    "Is there a correlation between read length and BioHansel SNV kmer frequency?"
   ]
  },
  {
   "cell_type": "code",
   "execution_count": 59,
   "metadata": {
    "ExecuteTime": {
     "end_time": "2019-11-07T16:42:05.469102Z",
     "start_time": "2019-11-07T16:42:05.441269Z"
    }
   },
   "outputs": [
    {
     "data": {
      "text/plain": [
       "(0.028430127656757127, 1.654146151884857e-13)"
      ]
     },
     "execution_count": 59,
     "metadata": {},
     "output_type": "execute_result"
    }
   ],
   "source": [
    "non_null_read_length_mask = ~pd.isnull(df_68k_seqinfo.read_length)\n",
    "pearsonr(df_68k_seqinfo.biohansel_depth[non_null_read_length_mask], df_68k_seqinfo.read_length[non_null_read_length_mask])"
   ]
  },
  {
   "cell_type": "markdown",
   "metadata": {},
   "source": [
    "Is there a correlation between read length and Snippy SNV read mapping coverage depth?"
   ]
  },
  {
   "cell_type": "code",
   "execution_count": 60,
   "metadata": {
    "ExecuteTime": {
     "end_time": "2019-11-07T16:42:05.501332Z",
     "start_time": "2019-11-07T16:42:05.472706Z"
    }
   },
   "outputs": [
    {
     "data": {
      "text/plain": [
       "(-0.027823792503598205, 5.322343155834001e-13)"
      ]
     },
     "execution_count": 60,
     "metadata": {},
     "output_type": "execute_result"
    }
   ],
   "source": [
    "non_null_read_length_mask = ~pd.isnull(df_68k_seqinfo.read_length)\n",
    "pearsonr(df_68k_seqinfo.snippy_depth[non_null_read_length_mask], df_68k_seqinfo.read_length[non_null_read_length_mask])"
   ]
  },
  {
   "cell_type": "code",
   "execution_count": null,
   "metadata": {},
   "outputs": [],
   "source": []
  }
 ],
 "metadata": {
  "kernelspec": {
   "display_name": "Python 3",
   "language": "python",
   "name": "python3"
  },
  "language_info": {
   "codemirror_mode": {
    "name": "ipython",
    "version": 3
   },
   "file_extension": ".py",
   "mimetype": "text/x-python",
   "name": "python",
   "nbconvert_exporter": "python",
   "pygments_lexer": "ipython3",
   "version": "3.7.3"
  },
  "toc": {
   "base_numbering": 1,
   "nav_menu": {},
   "number_sections": true,
   "sideBar": true,
   "skip_h1_title": false,
   "title_cell": "Table of Contents",
   "title_sidebar": "Contents",
   "toc_cell": false,
   "toc_position": {},
   "toc_section_display": true,
   "toc_window_display": false
  }
 },
 "nbformat": 4,
 "nbformat_minor": 2
}
